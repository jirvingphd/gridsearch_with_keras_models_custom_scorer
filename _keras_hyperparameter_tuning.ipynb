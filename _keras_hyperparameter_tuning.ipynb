{
 "cells": [
  {
   "cell_type": "markdown",
   "metadata": {},
   "source": [
    "# Hyperparameter Tuning with Keras + Sklearn GridSearchCV"
   ]
  },
  {
   "cell_type": "markdown",
   "metadata": {},
   "source": [
    "- https://chrisalbon.com/deep_learning/keras/tuning_neural_network_hyperparameters/\n",
    "\n",
    "```python\n",
    "# Load libraries\n",
    "import numpy as np\n",
    "from keras import models\n",
    "from keras import layers\n",
    "from keras.wrappers.scikit_learn import KerasClassifier\n",
    "from sklearn.model_selection import GridSearchCV\n",
    "from sklearn.datasets import make_classification\n",
    "\n",
    "```\n",
    "\n",
    "- Must then write a function to create the model that accepts arguments for each parameter that you'd like to tune.\n",
    "\n",
    "```python\n",
    "def create_model(param1=9, param2='tanh',etc):\n",
    "```\n",
    "\n",
    "- Create a dictionary of parameter arguments to test \n",
    "\n",
    "```python\n",
    "# Create HyperParameter Space\n",
    "params_to_search ={'filter_size':[3,4,5,6],\n",
    "                   'activation':['relu','tanh','linear'],\n",
    "                   'n_filters':[100,200],#,300,400],\n",
    "                  'dropout':[0.2],\n",
    "                  'optimizer':['adam','rmsprop','adadelta'],\n",
    "                'epochs':[10]}\n",
    "```\n",
    "- Then wrap the create function in the proper wrapper from `keras.wrappers.scikit_learn` (KerasClassifier, KerasRegressor) and instantiate the GridSearch\n",
    "\n",
    "```python\n",
    "neural_network = KerasClassifier(build_fn=create_model, param_grid=params_to_search)\n",
    "\n",
    "grid = GridSearchCV(estimator=neural_network, param_grid=params_to_search)\n",
    "grid_result = grid.fit(X_train, y_train)\n",
    "best_params = grid_result.best_params_\n",
    "```"
   ]
  },
  {
   "cell_type": "markdown",
   "metadata": {},
   "source": [
    "- Note: You can Specify scoring function using the `scoring=` parameter\n",
    "\n",
    "```python\n",
    "def my_custom_scorer(y_true,y_pred, model=None, **kwargs):\n",
    "    \"\"\"My custom score function to use with sklearn's GridSearchCV\n",
    "    Maximizes the average accuracy per class using a normalized confusion matrix\"\"\"\n",
    "    from sklearn.metrics import make_scorer,confusion_matrix\n",
    "    import numpy as np\n",
    "    import functions_combined_BEST as ji    \n",
    "\n",
    "    # set labels if provided\n",
    "    if 'labels' in kwargs:\n",
    "        labels = kwargs['labels']\n",
    "    else:\n",
    "        labels=np.unique(y_true)\n",
    "\n",
    "    if y_true.ndim>1 or y_pred.ndim>1:\n",
    "\n",
    "        ## reduce dimensions of y_train and y_test\n",
    "        if y_true.ndim>1:            \n",
    "            y_true = y_true.argmax(axis=1)\n",
    "        if y_pred.ndim>1:\n",
    "            y_pred = y_pred.argmax(axis=1)\n",
    "\n",
    "    # Get confusion matrx\n",
    "    cm = confusion_matrix(y_true, y_pred)\n",
    "\n",
    "    # Normalize confusion matrix\n",
    "    cm_norm = cm.astype('float')/cm.sum(axis=1)[:,np.newaxis]\n",
    "\n",
    "    ## Get diagonals for class accuracy\n",
    "    diag = cm_norm.diagonal()\n",
    "    score = np.mean(diag)\n",
    "    print(f'Mean Class Accuracy = {score}')\n",
    "    print(f'Class Accuracy Values:')\n",
    "    print(diag)    \n",
    "\n",
    "    ji.plot_confusion_matrix(cm,normalize=True)\n",
    "\n",
    "    return score,cm_norm\n",
    "\n",
    "## Using custom scoring function\n",
    "from sklearn.metrics import make_scorer\n",
    "\n",
    "grid = GridSearchCV(estimator=neural_network, \n",
    "                    param_grid=params_to_search,\n",
    "                   scoring=make_scorer(my_custom_scorer)\n",
    "grid_result = grid.fit(X_train, y_train)\n",
    "```"
   ]
  },
  {
   "cell_type": "markdown",
   "metadata": {},
   "source": [
    "# Imports, Function Def, Data Prep"
   ]
  },
  {
   "cell_type": "code",
   "execution_count": 2,
   "metadata": {},
   "outputs": [],
   "source": [
    "## IMPORT CUSTOM CAPSTONE FUNCTIONS\n",
    "import functions_combined_BEST as ji\n",
    "import functions_io as io\n",
    "\n",
    "from functions_combined_BEST import ihelp, ihelp_menu,\\\n",
    "reload, inspect_variables\n",
    "\n",
    "## IMPORT MY PUBLISHED PYPI PACKAGE \n",
    "import bs_ds as  bs\n",
    "from bs_ds.imports import *\n",
    "\n",
    "## IMPORT CONVENIENCE/DISPLAY FUNCTIONS\n",
    "from pprint import pprint\n",
    "import ipywidgets as widgets\n",
    "\n",
    "# Suppress warnings\n",
    "import warnings\n",
    "warnings.filterwarnings('ignore')\n",
    "\n",
    "#Set pd.set_options for tweet visibility\n",
    "pd.set_option('display.max_colwidth',100)\n",
    "pd.set_option('display.max_columns',50)\n",
    "\n",
    "\n",
    "from functions_combined_BEST import ihelp_menu2\n",
    "# file_dict = ji.load_filename_directory()\n",
    "\n",
    "np.random.seed(42)"
   ]
  },
  {
   "cell_type": "markdown",
   "metadata": {},
   "source": [
    "## Adding Email Notification for Completion\n",
    "- https://www.mssqltips.com/sqlservertip/5173/encrypting-passwords-for-use-with-python-and-sql-server/"
   ]
  },
  {
   "cell_type": "code",
   "execution_count": 3,
   "metadata": {},
   "outputs": [],
   "source": [
    "# ## Import cryptography and generate encryption key\n",
    "# from cryptography.fernet import Fernet\n",
    "# key = Fernet.generate_key()\n",
    "# print(key)\n",
    "\n",
    "# ## Create the cipher_suit for encrypting/decrypting\n",
    "# cipher_suite = Fernet(key)\n",
    "# ciphered_text = cipher_suite.encrypt(b\"\")#password goes here\n",
    "# print(ciphered_text)\n",
    "\n",
    "# ## Test decryption\n",
    "# unciphered_text = cipher_suite.decrypt(ciphered_text)\n",
    "# # print(unciphered_text)\n",
    "\n",
    "\n",
    "# ## Specify binary files (outside of repo) for storing key and password files\n",
    "# filename_key ='C:/Users/james/Keys/gmail_key.bin' \n",
    "# with open(filename_key,'wb') as file:\n",
    "#     file.write(key)\n",
    "    \n",
    "# filename_pwd ='C:/Users/james/Keys/gmail_pwd.bin' \n",
    "# with open(filename_pwd,'wb') as file:\n",
    "#     file.write(ciphered_text)"
   ]
  },
  {
   "cell_type": "code",
   "execution_count": 4,
   "metadata": {},
   "outputs": [],
   "source": [
    "# ## Test Loading and decrypting the password\n",
    "# # filename_key ='C:/Users/james/Keys/gmail_key.bin' \n",
    "# # filename_pwd ='C:/Users/james/Keys/gmail_pwd.bin' \n",
    "\n",
    "# with open(filename_key,'rb') as file:\n",
    "#     for line in file:\n",
    "#         key = line\n",
    "\n",
    "# from cryptography.fernet import Fernet\n",
    "# cipher_suite = Fernet(key)\n",
    "\n",
    "        \n",
    "# with open(filename_pwd,'rb') as file:\n",
    "#     for line in file:\n",
    "#         encryptedpwd = line\n",
    "        \n",
    "# uncipher_text = (cipher_suite.decrypt(encryptedpwd))\n",
    "# plain_text_encrypted_password = bytes(uncipher_text).decode('utf-8')\n",
    "# # print(plain_text_encrypted_password)\n"
   ]
  },
  {
   "cell_type": "markdown",
   "metadata": {},
   "source": [
    "### def email_notification"
   ]
  },
  {
   "cell_type": "code",
   "execution_count": 5,
   "metadata": {},
   "outputs": [],
   "source": [
    "def email_notification(key_file ='C:/Users/james/Keys/gmail_key.bin', \n",
    "                       encrypted_pwd_file ='C:/Users/james/Keys/gmail_pwd.bin',\n",
    "                       username='james.irving.phd@gmail.com',\n",
    "                       subject ='GridSearch Complete',\n",
    "                       msg='The GridSearch you started is now complete.'):\n",
    "    \"\"\"Sends email notification from gmail account using prevouisly encrypyter password.\n",
    "    Loads encrypted key and password from previously exported cipher from cryptography.fernet\"\"\"\n",
    "    import smtplib\n",
    "    from email.message import EmailMessage\n",
    "    from email.headerregistry import Address\n",
    "    from email.utils import make_msgid\n",
    "    from email.mime.multipart import MIMEMultipart\n",
    "    from email.mime.text import MIMEText\n",
    "    from email.mime.base import MIMEBase\n",
    "    from email import encoders\n",
    "    \n",
    "    from cryptography.fernet import Fernet\n",
    "    filename_encrypted_pwd =encrypted_pwd_file\n",
    "\n",
    "    with open(key_file,'rb') as file:\n",
    "        for line in file:\n",
    "            key = line\n",
    "\n",
    "    from cryptography.fernet import Fernet\n",
    "    cipher_suite = Fernet(key)\n",
    "\n",
    "\n",
    "    with open(encrypted_pwd_file,'rb') as file:\n",
    "        for line in file:\n",
    "            encryptedpwd = line\n",
    "    uncipher_text = (cipher_suite.decrypt(encryptedpwd))\n",
    "    plain_text_encrypted_password = bytes(uncipher_text).decode('utf-8')\n",
    "    \n",
    "    gmail_user = username\n",
    "    gmail_password = plain_text_encrypted_password\n",
    "    \n",
    "    ## WRITE EMAIL\n",
    "    message = MIMEMultipart()\n",
    "    message['Subject'] =subject\n",
    "    message['To'] = gmail_user\n",
    "    message['From']=gmail_user\n",
    "    body = msg\n",
    "    message.attach(MIMEText(body,'plain'))\n",
    "    text_message = message.as_string()\n",
    "\n",
    "\n",
    "    # emails end request\n",
    "    try:\n",
    "        with  smtplib.SMTP_SSL('smtp.gmail.com',465) as server:\n",
    "    #         server.ehlo()\n",
    "            server.login(gmail_user,gmail_password)\n",
    "            server.sendmail(gmail_user,gmail_user, text_message)\n",
    "            server.close()\n",
    "            print('Email sent!')\n",
    "\n",
    "        \n",
    "    except Exception as e:\n",
    "        print(e)\n",
    "        print('Something went wrong')"
   ]
  },
  {
   "cell_type": "markdown",
   "metadata": {},
   "source": [
    "### def my_custom_scorer"
   ]
  },
  {
   "cell_type": "code",
   "execution_count": 6,
   "metadata": {},
   "outputs": [],
   "source": [
    "def my_custom_scorer(y_true,y_pred, model=None, **kwargs):\n",
    "    \"\"\"My custom score function to use with sklearn's GridSearchCV\n",
    "    Maximizes the average accuracy per class using a normalized confusion matrix\n",
    "    [i] Note: To use my_custom_scorer in GridSearch:\n",
    "    >> from sklearn.metrics import make_scorer\n",
    "    >> grid = GridSearch(estimator, parameter_grid)\n",
    "    \"\"\"\n",
    "    from sklearn.metrics import make_scorer,confusion_matrix\n",
    "    import numpy as np\n",
    "    import functions_combined_BEST as ji    \n",
    "\n",
    "    # set labels for confusion matrix\n",
    "    labels = ['Decrease','No Change', 'Increase']\n",
    "\n",
    "    \n",
    "    ## If y_true is a multi-column one-hotted target\n",
    "    if y_true.ndim>1 or y_pred.ndim>1:\n",
    "\n",
    "        ## reduce dimensions of y_train and y_test\n",
    "        if y_true.ndim>1:            \n",
    "            y_true = y_true.argmax(axis=1)\n",
    "            \n",
    "        if y_pred.ndim>1:\n",
    "            y_pred = y_pred.argmax(axis=1)\n",
    "\n",
    "    \n",
    "    ## Get confusion matrx\n",
    "    cm = confusion_matrix(y_true, y_pred)\n",
    "\n",
    "    ## Normalize confusion matrix\n",
    "    cm_norm = cm.astype('float')/cm.sum(axis=1)[:,np.newaxis]\n",
    "\n",
    "    ## Get diagonals for class accuracy\n",
    "    diag = cm_norm.diagonal()\n",
    "    score = np.mean(diag)\n",
    "    \n",
    "    \n",
    "    ## Display results for user\n",
    "    print(f'Mean Class Accuracy = {score}')\n",
    "    print(f'Class Accuracy Values:')\n",
    "    print(diag)    \n",
    "\n",
    "    ## Plot confusion matrix\n",
    "    ji.plot_confusion_matrix(cm,normalize=True,classes=labels);\n",
    "\n",
    "    return score"
   ]
  },
  {
   "cell_type": "markdown",
   "metadata": {},
   "source": [
    "## Load Data"
   ]
  },
  {
   "cell_type": "code",
   "execution_count": 8,
   "metadata": {},
   "outputs": [
    {
     "data": {
      "text/html": [
       "<div>\n",
       "<style scoped>\n",
       "    .dataframe tbody tr th:only-of-type {\n",
       "        vertical-align: middle;\n",
       "    }\n",
       "\n",
       "    .dataframe tbody tr th {\n",
       "        vertical-align: top;\n",
       "    }\n",
       "\n",
       "    .dataframe thead th {\n",
       "        text-align: right;\n",
       "    }\n",
       "</style>\n",
       "<table border=\"1\" class=\"dataframe\">\n",
       "  <thead>\n",
       "    <tr style=\"text-align: right;\">\n",
       "      <th></th>\n",
       "      <th>delta_price_class</th>\n",
       "      <th>delta_price</th>\n",
       "      <th>pre_tweet_price</th>\n",
       "      <th>post_tweet_price</th>\n",
       "      <th>delta_time</th>\n",
       "      <th>B_ts_rounded</th>\n",
       "      <th>B_ts_post_tweet</th>\n",
       "      <th>content</th>\n",
       "      <th>content_min_clean</th>\n",
       "      <th>cleaned_stopped_content</th>\n",
       "      <th>cleaned_stopped_tokens</th>\n",
       "      <th>cleaned_stopped_lemmas</th>\n",
       "      <th>delta_price_class_int</th>\n",
       "    </tr>\n",
       "    <tr>\n",
       "      <th>date</th>\n",
       "      <th></th>\n",
       "      <th></th>\n",
       "      <th></th>\n",
       "      <th></th>\n",
       "      <th></th>\n",
       "      <th></th>\n",
       "      <th></th>\n",
       "      <th></th>\n",
       "      <th></th>\n",
       "      <th></th>\n",
       "      <th></th>\n",
       "      <th></th>\n",
       "      <th></th>\n",
       "    </tr>\n",
       "  </thead>\n",
       "  <tbody>\n",
       "    <tr>\n",
       "      <th>2019-08-23 14:59:04</th>\n",
       "      <td>neg</td>\n",
       "      <td>-0.49</td>\n",
       "      <td>112.77</td>\n",
       "      <td>112.28</td>\n",
       "      <td>0 days 01:00:00.000000000</td>\n",
       "      <td>2019-08-23 14:59:00</td>\n",
       "      <td>2019-08-23 15:59:00</td>\n",
       "      <td>....your companies HOME and making your products in the USA. I will be responding to China’s Tar...</td>\n",
       "      <td>your companies home and making your products in the usa  i will be responding to china’s tar...</td>\n",
       "      <td>companies home making products usa responding china tariffs afternoon opportunity united states ...</td>\n",
       "      <td>['companies', 'home', 'making', 'products', 'usa', 'responding', 'china', 'tariffs', 'afternoon'...</td>\n",
       "      <td>company home making product usa responding china tariff afternoon opportunity united state also ...</td>\n",
       "      <td>0</td>\n",
       "    </tr>\n",
       "    <tr>\n",
       "      <th>2019-08-23 14:59:04</th>\n",
       "      <td>neg</td>\n",
       "      <td>-0.49</td>\n",
       "      <td>112.77</td>\n",
       "      <td>112.28</td>\n",
       "      <td>0 days 01:00:00.000000000</td>\n",
       "      <td>2019-08-23 14:59:00</td>\n",
       "      <td>2019-08-23 15:59:00</td>\n",
       "      <td>....better off without them. The vast amounts of money made and stolen by China from the United ...</td>\n",
       "      <td>better off without them  the vast amounts of money made and stolen by china from the united ...</td>\n",
       "      <td>better without vast amounts money made stolen china united states year year decades must stop am...</td>\n",
       "      <td>['better', 'without', 'vast', 'amounts', 'money', 'made', 'stolen', 'china', 'united', 'states',...</td>\n",
       "      <td>better without vast amount money made stolen china united state year year decade must stop ameri...</td>\n",
       "      <td>0</td>\n",
       "    </tr>\n",
       "    <tr>\n",
       "      <th>2019-08-23 14:57:40</th>\n",
       "      <td>neg</td>\n",
       "      <td>-0.78</td>\n",
       "      <td>112.74</td>\n",
       "      <td>111.96</td>\n",
       "      <td>0 days 01:00:00.000000000</td>\n",
       "      <td>2019-08-23 14:58:00</td>\n",
       "      <td>2019-08-23 15:58:00</td>\n",
       "      <td>....My only question is who is our bigger enemy Jay Powell or Chairman Xi?</td>\n",
       "      <td>my only question is who is our bigger enemy jay powell or chairman xi</td>\n",
       "      <td>question bigger enemy jay powell chairman xi</td>\n",
       "      <td>['question', 'bigger', 'enemy', 'jay', 'powell', 'chairman', 'xi']</td>\n",
       "      <td>question bigger enemy jay powell chairman xi</td>\n",
       "      <td>0</td>\n",
       "    </tr>\n",
       "    <tr>\n",
       "      <th>2019-08-23 14:57:40</th>\n",
       "      <td>neg</td>\n",
       "      <td>-0.78</td>\n",
       "      <td>112.74</td>\n",
       "      <td>111.96</td>\n",
       "      <td>0 days 01:00:00.000000000</td>\n",
       "      <td>2019-08-23 14:58:00</td>\n",
       "      <td>2019-08-23 15:58:00</td>\n",
       "      <td>As usual the Fed did NOTHING! It is incredible that they can “speak” without knowing or asking w...</td>\n",
       "      <td>as usual the fed did nothing  it is incredible that they can “speak” without knowing or asking w...</td>\n",
       "      <td>usual fed nothing incredible speak without knowing asking announced shortly strong dollar weak f...</td>\n",
       "      <td>['usual', 'fed', 'nothing', 'incredible', 'speak', 'without', 'knowing', 'asking', 'announced', ...</td>\n",
       "      <td>usual fed nothing incredible speak without knowing asking announced shortly strong dollar weak f...</td>\n",
       "      <td>0</td>\n",
       "    </tr>\n",
       "    <tr>\n",
       "      <th>2019-08-23 14:57:40</th>\n",
       "      <td>neg</td>\n",
       "      <td>-0.78</td>\n",
       "      <td>112.74</td>\n",
       "      <td>111.96</td>\n",
       "      <td>0 days 01:00:00.000000000</td>\n",
       "      <td>2019-08-23 14:58:00</td>\n",
       "      <td>2019-08-23 15:58:00</td>\n",
       "      <td>....My only question is who is our bigger enemy Jay Powell or Chairman Xi?</td>\n",
       "      <td>my only question is who is our bigger enemy jay powell or chairman xi</td>\n",
       "      <td>question bigger enemy jay powell chairman xi</td>\n",
       "      <td>['question', 'bigger', 'enemy', 'jay', 'powell', 'chairman', 'xi']</td>\n",
       "      <td>question bigger enemy jay powell chairman xi</td>\n",
       "      <td>0</td>\n",
       "    </tr>\n",
       "  </tbody>\n",
       "</table>\n",
       "</div>"
      ],
      "text/plain": [
       "                    delta_price_class  delta_price  pre_tweet_price  \\\n",
       "date                                                                  \n",
       "2019-08-23 14:59:04               neg        -0.49           112.77   \n",
       "2019-08-23 14:59:04               neg        -0.49           112.77   \n",
       "2019-08-23 14:57:40               neg        -0.78           112.74   \n",
       "2019-08-23 14:57:40               neg        -0.78           112.74   \n",
       "2019-08-23 14:57:40               neg        -0.78           112.74   \n",
       "\n",
       "                     post_tweet_price                 delta_time  \\\n",
       "date                                                               \n",
       "2019-08-23 14:59:04            112.28  0 days 01:00:00.000000000   \n",
       "2019-08-23 14:59:04            112.28  0 days 01:00:00.000000000   \n",
       "2019-08-23 14:57:40            111.96  0 days 01:00:00.000000000   \n",
       "2019-08-23 14:57:40            111.96  0 days 01:00:00.000000000   \n",
       "2019-08-23 14:57:40            111.96  0 days 01:00:00.000000000   \n",
       "\n",
       "                            B_ts_rounded      B_ts_post_tweet  \\\n",
       "date                                                            \n",
       "2019-08-23 14:59:04  2019-08-23 14:59:00  2019-08-23 15:59:00   \n",
       "2019-08-23 14:59:04  2019-08-23 14:59:00  2019-08-23 15:59:00   \n",
       "2019-08-23 14:57:40  2019-08-23 14:58:00  2019-08-23 15:58:00   \n",
       "2019-08-23 14:57:40  2019-08-23 14:58:00  2019-08-23 15:58:00   \n",
       "2019-08-23 14:57:40  2019-08-23 14:58:00  2019-08-23 15:58:00   \n",
       "\n",
       "                                                                                                                 content  \\\n",
       "date                                                                                                                       \n",
       "2019-08-23 14:59:04  ....your companies HOME and making your products in the USA. I will be responding to China’s Tar...   \n",
       "2019-08-23 14:59:04  ....better off without them. The vast amounts of money made and stolen by China from the United ...   \n",
       "2019-08-23 14:57:40                           ....My only question is who is our bigger enemy Jay Powell or Chairman Xi?   \n",
       "2019-08-23 14:57:40  As usual the Fed did NOTHING! It is incredible that they can “speak” without knowing or asking w...   \n",
       "2019-08-23 14:57:40                           ....My only question is who is our bigger enemy Jay Powell or Chairman Xi?   \n",
       "\n",
       "                                                                                                       content_min_clean  \\\n",
       "date                                                                                                                       \n",
       "2019-08-23 14:59:04      your companies home and making your products in the usa  i will be responding to china’s tar...   \n",
       "2019-08-23 14:59:04      better off without them  the vast amounts of money made and stolen by china from the united ...   \n",
       "2019-08-23 14:57:40                               my only question is who is our bigger enemy jay powell or chairman xi    \n",
       "2019-08-23 14:57:40  as usual the fed did nothing  it is incredible that they can “speak” without knowing or asking w...   \n",
       "2019-08-23 14:57:40                               my only question is who is our bigger enemy jay powell or chairman xi    \n",
       "\n",
       "                                                                                                 cleaned_stopped_content  \\\n",
       "date                                                                                                                       \n",
       "2019-08-23 14:59:04  companies home making products usa responding china tariffs afternoon opportunity united states ...   \n",
       "2019-08-23 14:59:04  better without vast amounts money made stolen china united states year year decades must stop am...   \n",
       "2019-08-23 14:57:40                                                         question bigger enemy jay powell chairman xi   \n",
       "2019-08-23 14:57:40  usual fed nothing incredible speak without knowing asking announced shortly strong dollar weak f...   \n",
       "2019-08-23 14:57:40                                                         question bigger enemy jay powell chairman xi   \n",
       "\n",
       "                                                                                                  cleaned_stopped_tokens  \\\n",
       "date                                                                                                                       \n",
       "2019-08-23 14:59:04  ['companies', 'home', 'making', 'products', 'usa', 'responding', 'china', 'tariffs', 'afternoon'...   \n",
       "2019-08-23 14:59:04  ['better', 'without', 'vast', 'amounts', 'money', 'made', 'stolen', 'china', 'united', 'states',...   \n",
       "2019-08-23 14:57:40                                   ['question', 'bigger', 'enemy', 'jay', 'powell', 'chairman', 'xi']   \n",
       "2019-08-23 14:57:40  ['usual', 'fed', 'nothing', 'incredible', 'speak', 'without', 'knowing', 'asking', 'announced', ...   \n",
       "2019-08-23 14:57:40                                   ['question', 'bigger', 'enemy', 'jay', 'powell', 'chairman', 'xi']   \n",
       "\n",
       "                                                                                                  cleaned_stopped_lemmas  \\\n",
       "date                                                                                                                       \n",
       "2019-08-23 14:59:04  company home making product usa responding china tariff afternoon opportunity united state also ...   \n",
       "2019-08-23 14:59:04  better without vast amount money made stolen china united state year year decade must stop ameri...   \n",
       "2019-08-23 14:57:40                                                         question bigger enemy jay powell chairman xi   \n",
       "2019-08-23 14:57:40  usual fed nothing incredible speak without knowing asking announced shortly strong dollar weak f...   \n",
       "2019-08-23 14:57:40                                                         question bigger enemy jay powell chairman xi   \n",
       "\n",
       "                     delta_price_class_int  \n",
       "date                                        \n",
       "2019-08-23 14:59:04                      0  \n",
       "2019-08-23 14:59:04                      0  \n",
       "2019-08-23 14:57:40                      0  \n",
       "2019-08-23 14:57:40                      0  \n",
       "2019-08-23 14:57:40                      0  "
      ]
     },
     "execution_count": 8,
     "metadata": {},
     "output_type": "execute_result"
    }
   ],
   "source": [
    "df_sampled = pd.read_csv('shared_memory/df_sampled_test_nlp_models.csv',index_col=0,parse_dates=True)\n",
    "df_sampled.dropna(inplace=True)\n",
    "df_sampled.head()"
   ]
  },
  {
   "cell_type": "code",
   "execution_count": 10,
   "metadata": {},
   "outputs": [
    {
     "name": "stdout",
     "output_type": "stream",
     "text": [
      "[i] Loading Word2Vec model from models/word2vec/word2vec_model.pkl\n"
     ]
    },
    {
     "data": {
      "text/plain": [
       "4681"
      ]
     },
     "execution_count": 10,
     "metadata": {},
     "output_type": "execute_result"
    }
   ],
   "source": []
  },
  {
   "cell_type": "code",
   "execution_count": 11,
   "metadata": {},
   "outputs": [
    {
     "data": {
      "text/plain": [
       "delta_price_class          0\n",
       "delta_price                0\n",
       "pre_tweet_price            0\n",
       "post_tweet_price           0\n",
       "delta_time                 0\n",
       "B_ts_rounded               0\n",
       "B_ts_post_tweet            0\n",
       "content                    0\n",
       "content_min_clean          0\n",
       "cleaned_stopped_content    0\n",
       "cleaned_stopped_tokens     0\n",
       "cleaned_stopped_lemmas     0\n",
       "delta_price_class_int      0\n",
       "dtype: int64"
      ]
     },
     "execution_count": 11,
     "metadata": {},
     "output_type": "execute_result"
    }
   ],
   "source": [
    "df_sampled.isna().sum()"
   ]
  },
  {
   "cell_type": "markdown",
   "metadata": {},
   "source": [
    "## Tokenize and train/test/val split"
   ]
  },
  {
   "cell_type": "code",
   "execution_count": 12,
   "metadata": {},
   "outputs": [
    {
     "name": "stderr",
     "output_type": "stream",
     "text": [
      "Using TensorFlow backend.\n"
     ]
    },
    {
     "name": "stdout",
     "output_type": "stream",
     "text": [
      "y.shape=(2670, 3)\n",
      "Sequence length: 33\n"
     ]
    }
   ],
   "source": [
    "from keras.preprocessing.text import Tokenizer\n",
    "from keras.preprocessing import text, sequence\n",
    "from keras.utils import to_categorical\n",
    "\n",
    "## Specify text data series\n",
    "text_data = df_sampled['cleaned_stopped_lemmas']\n",
    "\n",
    "# Changed for class imblanace  #\n",
    "y = to_categorical(df_sampled['delta_price_class_int'],num_classes=3)\n",
    "print(f'y.shape={y.shape}')\n",
    "\n",
    "## Instantiate and fit Tokenizer\n",
    "tokenizer = Tokenizer(num_words=len(wv.vocab))\n",
    "tokenizer.fit_on_texts(text_data)\n",
    "\n",
    "# return integer-encoded sentences\n",
    "X = tokenizer.texts_to_sequences(text_data)\n",
    "X = sequence.pad_sequences(X)\n",
    "\n",
    "MAX_SEQUENCE_LENGTH = X.shape[1]\n",
    "print(f'Sequence length: {MAX_SEQUENCE_LENGTH}')\n",
    "\n",
    "## Save word indices\n",
    "word_index = tokenizer.index_word\n",
    "reverse_index = {v:k for k,v in word_index.items()}"
   ]
  },
  {
   "cell_type": "code",
   "execution_count": 13,
   "metadata": {},
   "outputs": [
    {
     "name": "stdout",
     "output_type": "stream",
     "text": [
      "Training Data:\n",
      "(1869, 33) (1869, 3)\n",
      "Test Data:\n",
      "(400, 33) (400, 3)\n",
      "Val Data:\n",
      "(401, 33) (401, 3)\n"
     ]
    }
   ],
   "source": [
    "## Get training/test split\n",
    "X_train, X_test,X_val, y_train, y_test,y_val = ji.train_test_val_split(X, y, test_size=0.15, val_size=0.15)\n",
    "\n",
    "# ji.check_y_class_balance(data=[y_train,y_test])\n",
    "print('Training Data:')\n",
    "print(X_train.shape, y_train.shape)\n",
    "print('Test Data:')\n",
    "print(X_test.shape, y_test.shape)\n",
    "print('Val Data:')\n",
    "print(X_val.shape, y_val.shape)"
   ]
  },
  {
   "cell_type": "markdown",
   "metadata": {},
   "source": [
    "### def load_glove_embedding_layer"
   ]
  },
  {
   "cell_type": "code",
   "execution_count": 15,
   "metadata": {},
   "outputs": [
    {
     "name": "stdout",
     "output_type": "stream",
     "text": [
      "[i] Loading Word2Vec model from models/word2vec/word2vec_model.pkl\n",
      "4681\n",
      "embedding_matrix.shape = (4682, 300)\n"
     ]
    }
   ],
   "source": [
    "def load_glove_embedding_layer(fp=None, trainable=False):\n",
    "    if fp is None:\n",
    "        fp = None#r'D:\\Users\\James\\Dropbox (Personal)\\CODING\\DATASETS\\embeddings\\glove.twitter.27B.100d.txt'\n",
    "\n",
    "    ## Make GloVe embedding matrix\n",
    "    word2index, embedding_matrix_gl = ji.load_glove_embeddings(fp=fp,encoding='utf-8',embedding_dim=100)\n",
    "    print(f'gl:\\n\\tshape={embedding_matrix_gl.shape}')\n",
    "\n",
    "    from keras import layers         \n",
    "    vocab_size = embedding_matrix_gl.shape[0]#len(wv.vocab)\n",
    "    vector_size = embedding_matrix_gl.shape[1]#wv.vector_size\n",
    "\n",
    "    embedding_layer_gl =layers.Embedding(vocab_size,#+1,\n",
    "                                      vector_size,\n",
    "                                      input_length=X_train.shape[1],\n",
    "                                      weights=[embedding_matrix_gl],\n",
    "                                      trainable=trainable)\n",
    "    return word2index, embedding_layer_gl\n",
    "\n",
    "## Attempt to load GloVe Vectors\n",
    "try:\n",
    "    ## Load in GloVe Vectors for Embedding Layer\n",
    "    glove_word2index, embedding_layer = load_glove_embedding_layer(trainable=False)\n",
    "\n",
    "except:\n",
    "    \n",
    "    ## If user doesn't have glove files, use word2vec instead\n",
    "    ## Load in word2vec if want to use for embedding layer\n",
    "    word2vec = ji.load_word2vec('models/word2vec/word2vec_model.pkl')\n",
    "    wv = word2vec.wv\n",
    "    print(len(wv.vocab))\n",
    "    \n",
    "    embedding_layer = ji.make_keras_embedding_layer(word2vec_model=word2vec,X_sequences=X)"
   ]
  },
  {
   "cell_type": "markdown",
   "metadata": {},
   "source": [
    "# Modeling"
   ]
  },
  {
   "cell_type": "markdown",
   "metadata": {},
   "source": [
    "## CNN Model 1"
   ]
  },
  {
   "cell_type": "code",
   "execution_count": 16,
   "metadata": {},
   "outputs": [],
   "source": [
    "def create_model(embedding_layer=embedding_layer,trainable=False,\n",
    "              n_filters=128, filter_size=4,\n",
    "              activation='relu', optimizer='rmsprop',\n",
    "              dropout=0.2,l2_lr=0.01,\n",
    "              batch_size=100,\n",
    "              epochs=10,verbose = 1,show_summary=False):\n",
    "    \n",
    "    ## Print out parameters used to create model for user\n",
    "    vars = locals()\n",
    "    dashes = '---'*20\n",
    "    print('\\n\\n')\n",
    "    print(dashes)\n",
    "    now = pd.datetime.now()\n",
    "    print(now.strftime('%m/%d/%Y-%T'))\n",
    "    print(vars)    \n",
    "    \n",
    "    \n",
    "    ## Create network architetcture\n",
    "    from keras.layers import Input, Conv1D,GlobalMaxPooling1D, MaxPooling1D, Dense, Dropout\n",
    "    from keras.models import Model\n",
    "    from keras.regularizers import l2\n",
    "\n",
    "    print('Training model.')\n",
    "    MAX_SEQUENCE_LENGTH = X_train.shape[1]\n",
    "\n",
    "    \n",
    "    ## Get Input sequences from embedding_layer\n",
    "    sequence_input = Input(shape=(MAX_SEQUENCE_LENGTH,), dtype='int32')\n",
    "    embedded_sequences = embedding_layer(sequence_input)\n",
    "    ## Specify layer parameters\n",
    "\n",
    "\n",
    "    ## Conv Layer 1\n",
    "    x = Conv1D(n_filters, filter_size, activation=activation, data_format='channels_first',\n",
    "               kernel_regularizer=l2(l2_lr), bias_regularizer=l2(l2_lr))(embedded_sequences)\n",
    "    \n",
    "    x = Dropout(dropout)(x)\n",
    "    x = MaxPooling1D(filter_size)(x)\n",
    "    \n",
    "    ## Conv Layer 2\n",
    "    x = Conv1D(n_filters, filter_size, activation=activation,data_format='channels_first',\n",
    "              kernel_regularizer=l2(l2_lr), bias_regularizer=l2(l2_lr))(x) \n",
    "    x = Dropout(dropout)(x)\n",
    "    x = MaxPooling1D(filter_size)(x)\n",
    "    \n",
    "    ## Conv Layer 3\n",
    "    x = Conv1D(n_filters, filter_size, activation=activation,data_format='channels_first',\n",
    "              kernel_regularizer=l2(l2_lr), bias_regularizer=l2(l2_lr))(x) \n",
    "    x = Dropout(dropout)(x)\n",
    "    x = GlobalMaxPooling1D()(x)\n",
    "    \n",
    "    ## Classification Layer\n",
    "    x = Dense(n_filters, activation=activation )(x) #128'relu'\n",
    "    preds = Dense(3, activation='softmax')(x)\n",
    "\n",
    "    \n",
    "    ## Create and compile model \n",
    "    model = Model(sequence_input, preds)\n",
    "    model.compile(loss='categorical_crossentropy',\n",
    "                  optimizer=optimizer, #'rmsprop',#adam\n",
    "                  metrics=['acc'])\n",
    "    \n",
    "    if show_summary:\n",
    "        display(model.summary())\n",
    "    return model"
   ]
  },
  {
   "cell_type": "markdown",
   "metadata": {},
   "source": [
    "## Using Keras Model with GridSearchCV"
   ]
  },
  {
   "cell_type": "code",
   "execution_count": 19,
   "metadata": {},
   "outputs": [],
   "source": [
    "## Wrapping the model in the `KerasClassifier` wrapper\n",
    "from keras.wrappers.scikit_learn import KerasClassifier, KerasRegressor\n",
    "from sklearn.model_selection import GridSearchCV\n",
    "from sklearn.metrics import make_scorer\n",
    "\n",
    "## Wrap create_model with KerasClassifier\n",
    "neural_network = KerasClassifier(build_fn=create_model,verbose=1)    \n",
    "\n",
    "# Create HyperParaemeter Space\n",
    "params_to_search ={'filter_size':[2,4,6],\n",
    "                   'activation':['relu','tanh','linear'],\n",
    "                   'n_filters':[100,200],#,300,400],\n",
    "                  'dropout':[0.2,0.4],\n",
    "                  'optimizer':['adam','rmsprop','adadelta'],\n",
    "                'epochs':[10]}"
   ]
  },
  {
   "cell_type": "code",
   "execution_count": 20,
   "metadata": {
    "scrolled": false
   },
   "outputs": [
    {
     "name": "stdout",
     "output_type": "stream",
     "text": [
      "--- CLOCK STARTED @:    09/30/19 - 11:46:15 AM --- \n",
      "\n",
      "\n",
      "\n",
      "------------------------------------------------------------\n",
      "09/30/2019-11:46:15\n",
      "{'show_summary': False, 'verbose': 1, 'epochs': 10, 'batch_size': 100, 'l2_lr': 0.01, 'dropout': 0.2, 'optimizer': 'adam', 'activation': 'relu', 'filter_size': 2, 'n_filters': 100, 'trainable': False, 'embedding_layer': <keras.layers.embeddings.Embedding object at 0x000001D32D653B70>}\n",
      "Training model.\n",
      "Epoch 1/10\n",
      "1246/1246 [==============================] - 4s 3ms/step - loss: 2.4564 - acc: 0.3283\n",
      "Epoch 2/10\n",
      "1246/1246 [==============================] - 3s 2ms/step - loss: 1.7180 - acc: 0.3291\n",
      "Epoch 3/10\n",
      "1246/1246 [==============================] - 3s 3ms/step - loss: 1.3558 - acc: 0.3459\n",
      "Epoch 4/10\n",
      "1246/1246 [==============================] - 3s 3ms/step - loss: 1.1982 - acc: 0.3226\n",
      "Epoch 5/10\n",
      "1246/1246 [==============================] - 3s 3ms/step - loss: 1.1354 - acc: 0.3459\n",
      "Epoch 6/10\n",
      "1246/1246 [==============================] - 3s 3ms/step - loss: 1.1121 - acc: 0.3283\n",
      "Epoch 7/10\n",
      "1246/1246 [==============================] - 3s 3ms/step - loss: 1.1036 - acc: 0.3459\n",
      "Epoch 8/10\n",
      "1246/1246 [==============================] - 3s 3ms/step - loss: 1.1009 - acc: 0.3467\n",
      "Epoch 9/10\n",
      "1246/1246 [==============================] - 4s 3ms/step - loss: 1.1001 - acc: 0.3459\n",
      "Epoch 10/10\n",
      "1246/1246 [==============================] - 3s 3ms/step - loss: 1.0994 - acc: 0.3355\n",
      "623/623 [==============================] - 1s 825us/step\n",
      "Mean Class Accuracy = 0.3333333333333333\n",
      "Class Accuracy Values:\n",
      "[1. 0. 0.]\n"
     ]
    },
    {
     "data": {
      "image/png": "[encoded data removed]",
      "text/plain": [
       "<Figure size 360x360 with 2 Axes>"
      ]
     },
     "metadata": {
      "needs_background": "light"
     },
     "output_type": "display_data"
    },
    {
     "name": "stdout",
     "output_type": "stream",
     "text": [
      "1246/1246 [==============================] - 1s 685us/step\n",
      "Mean Class Accuracy = 0.3333333333333333\n",
      "Class Accuracy Values:\n",
      "[1. 0. 0.]\n"
     ]
    },
    {
     "data": {
      "image/png": "[encoded data removed]",
      "text/plain": [
       "<Figure size 360x360 with 2 Axes>"
      ]
     },
     "metadata": {
      "needs_background": "light"
     },
     "output_type": "display_data"
    },
    {
     "name": "stdout",
     "output_type": "stream",
     "text": [
      "\n",
      "\n",
      "\n",
      "------------------------------------------------------------\n",
      "09/30/2019-11:46:50\n",
      "{'show_summary': False, 'verbose': 1, 'epochs': 10, 'batch_size': 100, 'l2_lr': 0.01, 'dropout': 0.2, 'optimizer': 'adam', 'activation': 'relu', 'filter_size': 2, 'n_filters': 100, 'trainable': False, 'embedding_layer': <keras.layers.embeddings.Embedding object at 0x000001D32D653B70>}\n",
      "Training model.\n",
      "Epoch 1/10\n",
      "1246/1246 [==============================] - 4s 3ms/step - loss: 2.4122 - acc: 0.3307\n",
      "Epoch 2/10\n",
      "1246/1246 [==============================] - 3s 3ms/step - loss: 1.6632 - acc: 0.3307\n",
      "Epoch 3/10\n",
      "1246/1246 [==============================] - 3s 3ms/step - loss: 1.3160 - acc: 0.3379\n",
      "Epoch 4/10\n",
      "1246/1246 [==============================] - 4s 3ms/step - loss: 1.1751 - acc: 0.3403\n",
      "Epoch 5/10\n",
      "1246/1246 [==============================] - 3s 3ms/step - loss: 1.1240 - acc: 0.3098\n",
      "Epoch 6/10\n",
      "1246/1246 [==============================] - 3s 3ms/step - loss: 1.1062 - acc: 0.3258\n",
      "Epoch 7/10\n",
      "1246/1246 [==============================] - 3s 3ms/step - loss: 1.1010 - acc: 0.3186\n",
      "Epoch 8/10\n",
      "1246/1246 [==============================] - 3s 3ms/step - loss: 1.0995 - acc: 0.3331\n",
      "Epoch 9/10\n",
      "1246/1246 [==============================] - 3s 3ms/step - loss: 1.0988 - acc: 0.3315\n",
      "Epoch 10/10\n",
      "1246/1246 [==============================] - 3s 2ms/step - loss: 1.0992 - acc: 0.3379\n",
      "623/623 [==============================] - 1s 851us/step\n",
      "Mean Class Accuracy = 0.3333333333333333\n",
      "Class Accuracy Values:\n",
      "[1. 0. 0.]\n"
     ]
    },
    {
     "data": {
      "image/png": "[encoded data removed]",
      "text/plain": [
       "<Figure size 360x360 with 2 Axes>"
      ]
     },
     "metadata": {
      "needs_background": "light"
     },
     "output_type": "display_data"
    },
    {
     "name": "stdout",
     "output_type": "stream",
     "text": [
      "1246/1246 [==============================] - 1s 730us/step\n",
      "Mean Class Accuracy = 0.3333333333333333\n",
      "Class Accuracy Values:\n",
      "[1. 0. 0.]\n"
     ]
    },
    {
     "data": {
      "image/png": "[encoded data removed]",
      "text/plain": [
       "<Figure size 360x360 with 2 Axes>"
      ]
     },
     "metadata": {
      "needs_background": "light"
     },
     "output_type": "display_data"
    },
    {
     "name": "stdout",
     "output_type": "stream",
     "text": [
      "\n",
      "\n",
      "\n",
      "------------------------------------------------------------\n",
      "09/30/2019-11:47:27\n",
      "{'show_summary': False, 'verbose': 1, 'epochs': 10, 'batch_size': 100, 'l2_lr': 0.01, 'dropout': 0.2, 'optimizer': 'adam', 'activation': 'relu', 'filter_size': 2, 'n_filters': 100, 'trainable': False, 'embedding_layer': <keras.layers.embeddings.Embedding object at 0x000001D32D653B70>}\n",
      "Training model.\n",
      "Epoch 1/10\n",
      "1246/1246 [==============================] - 4s 3ms/step - loss: 2.4177 - acc: 0.3026\n",
      "Epoch 2/10\n",
      "1246/1246 [==============================] - 3s 3ms/step - loss: 1.6711 - acc: 0.3234\n",
      "Epoch 3/10\n",
      "1246/1246 [==============================] - 3s 3ms/step - loss: 1.3213 - acc: 0.3331\n",
      "Epoch 4/10\n",
      "1246/1246 [==============================] - 3s 3ms/step - loss: 1.1775 - acc: 0.3387\n",
      "Epoch 5/10\n",
      "1246/1246 [==============================] - 3s 3ms/step - loss: 1.1246 - acc: 0.3234\n",
      "Epoch 6/10\n",
      "1246/1246 [==============================] - 3s 3ms/step - loss: 1.1067 - acc: 0.3202\n",
      "Epoch 7/10\n",
      "1246/1246 [==============================] - 3s 3ms/step - loss: 1.1010 - acc: 0.3138\n",
      "Epoch 8/10\n",
      "1246/1246 [==============================] - 3s 3ms/step - loss: 1.0995 - acc: 0.3387\n",
      "Epoch 9/10\n",
      "1246/1246 [==============================] - 3s 3ms/step - loss: 1.0995 - acc: 0.3283\n",
      "Epoch 10/10\n",
      "1246/1246 [==============================] - 3s 3ms/step - loss: 1.0989 - acc: 0.3395\n",
      "623/623 [==============================] - 1s 912us/step\n",
      "Mean Class Accuracy = 0.3333333333333333\n",
      "Class Accuracy Values:\n",
      "[0. 1. 0.]\n"
     ]
    },
    {
     "data": {
      "image/png": "[encoded data removed]",
      "text/plain": [
       "<Figure size 360x360 with 2 Axes>"
      ]
     },
     "metadata": {
      "needs_background": "light"
     },
     "output_type": "display_data"
    },
    {
     "name": "stdout",
     "output_type": "stream",
     "text": [
      "1246/1246 [==============================] - 1s 695us/step\n",
      "Mean Class Accuracy = 0.3333333333333333\n",
      "Class Accuracy Values:\n",
      "[0. 1. 0.]\n"
     ]
    },
    {
     "data": {
      "image/png": "[encoded data removed]",
      "text/plain": [
       "<Figure size 360x360 with 2 Axes>"
      ]
     },
     "metadata": {
      "needs_background": "light"
     },
     "output_type": "display_data"
    },
    {
     "name": "stdout",
     "output_type": "stream",
     "text": [
      "\n",
      "\n",
      "\n",
      "------------------------------------------------------------\n",
      "09/30/2019-11:48:03\n",
      "{'show_summary': False, 'verbose': 1, 'epochs': 10, 'batch_size': 100, 'l2_lr': 0.01, 'dropout': 0.2, 'optimizer': 'rmsprop', 'activation': 'relu', 'filter_size': 2, 'n_filters': 100, 'trainable': False, 'embedding_layer': <keras.layers.embeddings.Embedding object at 0x000001D32D653B70>}\n",
      "Training model.\n",
      "Epoch 1/10\n",
      "1246/1246 [==============================] - 4s 3ms/step - loss: 2.2607 - acc: 0.3363\n",
      "Epoch 2/10\n",
      "1246/1246 [==============================] - 3s 3ms/step - loss: 1.5453 - acc: 0.3210\n",
      "Epoch 3/10\n",
      "1246/1246 [==============================] - 3s 3ms/step - loss: 1.2105 - acc: 0.3218\n",
      "Epoch 4/10\n",
      "1246/1246 [==============================] - 3s 3ms/step - loss: 1.1113 - acc: 0.3307\n",
      "Epoch 5/10\n",
      "1246/1246 [==============================] - 4s 3ms/step - loss: 1.0989 - acc: 0.3443\n",
      "Epoch 6/10\n",
      "1246/1246 [==============================] - 4s 3ms/step - loss: 1.0995 - acc: 0.3459\n",
      "Epoch 7/10\n",
      "1246/1246 [==============================] - 3s 3ms/step - loss: 1.0989 - acc: 0.3459\n",
      "Epoch 8/10\n",
      "1246/1246 [==============================] - 3s 3ms/step - loss: 1.0992 - acc: 0.3459\n",
      "Epoch 9/10\n",
      "1246/1246 [==============================] - 4s 3ms/step - loss: 1.0992 - acc: 0.3411\n",
      "Epoch 10/10\n",
      "1246/1246 [==============================] - 4s 3ms/step - loss: 1.0990 - acc: 0.3459\n",
      "623/623 [==============================] - 1s 1ms/step\n",
      "Mean Class Accuracy = 0.3333333333333333\n",
      "Class Accuracy Values:\n",
      "[1. 0. 0.]\n"
     ]
    },
    {
     "data": {
      "image/png": "[encoded data removed]",
      "text/plain": [
       "<Figure size 360x360 with 2 Axes>"
      ]
     },
     "metadata": {
      "needs_background": "light"
     },
     "output_type": "display_data"
    },
    {
     "name": "stdout",
     "output_type": "stream",
     "text": [
      "1246/1246 [==============================] - 1s 766us/step\n",
      "Mean Class Accuracy = 0.3333333333333333\n",
      "Class Accuracy Values:\n",
      "[1. 0. 0.]\n"
     ]
    },
    {
     "data": {
      "image/png": "[encoded data removed]",
      "text/plain": [
       "<Figure size 360x360 with 2 Axes>"
      ]
     },
     "metadata": {
      "needs_background": "light"
     },
     "output_type": "display_data"
    },
    {
     "name": "stdout",
     "output_type": "stream",
     "text": [
      "\n",
      "\n",
      "\n",
      "------------------------------------------------------------\n",
      "09/30/2019-11:48:41\n",
      "{'show_summary': False, 'verbose': 1, 'epochs': 10, 'batch_size': 100, 'l2_lr': 0.01, 'dropout': 0.2, 'optimizer': 'rmsprop', 'activation': 'relu', 'filter_size': 2, 'n_filters': 100, 'trainable': False, 'embedding_layer': <keras.layers.embeddings.Embedding object at 0x000001D32D653B70>}\n",
      "Training model.\n",
      "Epoch 1/10\n",
      "1246/1246 [==============================] - 4s 3ms/step - loss: 2.2552 - acc: 0.3170\n",
      "Epoch 2/10\n",
      "1246/1246 [==============================] - 3s 3ms/step - loss: 1.5313 - acc: 0.3250\n",
      "Epoch 3/10\n",
      "1246/1246 [==============================] - 3s 2ms/step - loss: 1.2043 - acc: 0.3315\n",
      "Epoch 4/10\n",
      "1246/1246 [==============================] - 3s 3ms/step - loss: 1.1096 - acc: 0.3250\n",
      "Epoch 5/10\n",
      "1246/1246 [==============================] - 3s 3ms/step - loss: 1.0995 - acc: 0.3483\n",
      "Epoch 6/10\n",
      "1246/1246 [==============================] - 3s 3ms/step - loss: 1.0998 - acc: 0.3226\n",
      "Epoch 7/10\n",
      " 704/1246 [===============>..............] - ETA: 1s - loss: 1.0993 - acc: 0.3281"
     ]
    },
    {
     "ename": "KeyboardInterrupt",
     "evalue": "",
     "output_type": "error",
     "traceback": [
      "\u001b[1;31m---------------------------------------------------------------------------\u001b[0m",
      "\u001b[1;31mKeyboardInterrupt\u001b[0m                         Traceback (most recent call last)",
      "\u001b[1;32m<ipython-input-20-12724353d75f>\u001b[0m in \u001b[0;36m<module>\u001b[1;34m\u001b[0m\n\u001b[0;32m      5\u001b[0m \u001b[1;33m\u001b[0m\u001b[0m\n\u001b[0;32m      6\u001b[0m \u001b[0mtune_clock\u001b[0m\u001b[1;33m.\u001b[0m\u001b[0mtic\u001b[0m\u001b[1;33m(\u001b[0m\u001b[1;33m)\u001b[0m\u001b[1;33m\u001b[0m\u001b[1;33m\u001b[0m\u001b[0m\n\u001b[1;32m----> 7\u001b[1;33m \u001b[0mgrid_result\u001b[0m \u001b[1;33m=\u001b[0m \u001b[0mgrid\u001b[0m\u001b[1;33m.\u001b[0m\u001b[0mfit\u001b[0m\u001b[1;33m(\u001b[0m\u001b[0mX_train\u001b[0m\u001b[1;33m,\u001b[0m \u001b[0my_train\u001b[0m\u001b[1;33m)\u001b[0m\u001b[1;33m\u001b[0m\u001b[1;33m\u001b[0m\u001b[0m\n\u001b[0m\u001b[0;32m      8\u001b[0m \u001b[0mtune_clock\u001b[0m\u001b[1;33m.\u001b[0m\u001b[0mtoc\u001b[0m\u001b[1;33m(\u001b[0m\u001b[1;33m)\u001b[0m\u001b[1;33m\u001b[0m\u001b[1;33m\u001b[0m\u001b[0m\n\u001b[0;32m      9\u001b[0m \u001b[1;33m\u001b[0m\u001b[0m\n",
      "\u001b[1;32m~\\Anaconda3\\envs\\learn-env-ext\\lib\\site-packages\\sklearn\\model_selection\\_search.py\u001b[0m in \u001b[0;36mfit\u001b[1;34m(self, X, y, groups, **fit_params)\u001b[0m\n\u001b[0;32m    720\u001b[0m                 \u001b[1;32mreturn\u001b[0m \u001b[0mresults_container\u001b[0m\u001b[1;33m[\u001b[0m\u001b[1;36m0\u001b[0m\u001b[1;33m]\u001b[0m\u001b[1;33m\u001b[0m\u001b[1;33m\u001b[0m\u001b[0m\n\u001b[0;32m    721\u001b[0m \u001b[1;33m\u001b[0m\u001b[0m\n\u001b[1;32m--> 722\u001b[1;33m             \u001b[0mself\u001b[0m\u001b[1;33m.\u001b[0m\u001b[0m_run_search\u001b[0m\u001b[1;33m(\u001b[0m\u001b[0mevaluate_candidates\u001b[0m\u001b[1;33m)\u001b[0m\u001b[1;33m\u001b[0m\u001b[1;33m\u001b[0m\u001b[0m\n\u001b[0m\u001b[0;32m    723\u001b[0m \u001b[1;33m\u001b[0m\u001b[0m\n\u001b[0;32m    724\u001b[0m         \u001b[0mresults\u001b[0m \u001b[1;33m=\u001b[0m \u001b[0mresults_container\u001b[0m\u001b[1;33m[\u001b[0m\u001b[1;36m0\u001b[0m\u001b[1;33m]\u001b[0m\u001b[1;33m\u001b[0m\u001b[1;33m\u001b[0m\u001b[0m\n",
      "\u001b[1;32m~\\Anaconda3\\envs\\learn-env-ext\\lib\\site-packages\\sklearn\\model_selection\\_search.py\u001b[0m in \u001b[0;36m_run_search\u001b[1;34m(self, evaluate_candidates)\u001b[0m\n\u001b[0;32m   1189\u001b[0m     \u001b[1;32mdef\u001b[0m \u001b[0m_run_search\u001b[0m\u001b[1;33m(\u001b[0m\u001b[0mself\u001b[0m\u001b[1;33m,\u001b[0m \u001b[0mevaluate_candidates\u001b[0m\u001b[1;33m)\u001b[0m\u001b[1;33m:\u001b[0m\u001b[1;33m\u001b[0m\u001b[1;33m\u001b[0m\u001b[0m\n\u001b[0;32m   1190\u001b[0m         \u001b[1;34m\"\"\"Search all candidates in param_grid\"\"\"\u001b[0m\u001b[1;33m\u001b[0m\u001b[1;33m\u001b[0m\u001b[0m\n\u001b[1;32m-> 1191\u001b[1;33m         \u001b[0mevaluate_candidates\u001b[0m\u001b[1;33m(\u001b[0m\u001b[0mParameterGrid\u001b[0m\u001b[1;33m(\u001b[0m\u001b[0mself\u001b[0m\u001b[1;33m.\u001b[0m\u001b[0mparam_grid\u001b[0m\u001b[1;33m)\u001b[0m\u001b[1;33m)\u001b[0m\u001b[1;33m\u001b[0m\u001b[1;33m\u001b[0m\u001b[0m\n\u001b[0m\u001b[0;32m   1192\u001b[0m \u001b[1;33m\u001b[0m\u001b[0m\n\u001b[0;32m   1193\u001b[0m \u001b[1;33m\u001b[0m\u001b[0m\n",
      "\u001b[1;32m~\\Anaconda3\\envs\\learn-env-ext\\lib\\site-packages\\sklearn\\model_selection\\_search.py\u001b[0m in \u001b[0;36mevaluate_candidates\u001b[1;34m(candidate_params)\u001b[0m\n\u001b[0;32m    709\u001b[0m                                \u001b[1;32mfor\u001b[0m \u001b[0mparameters\u001b[0m\u001b[1;33m,\u001b[0m \u001b[1;33m(\u001b[0m\u001b[0mtrain\u001b[0m\u001b[1;33m,\u001b[0m \u001b[0mtest\u001b[0m\u001b[1;33m)\u001b[0m\u001b[1;33m\u001b[0m\u001b[1;33m\u001b[0m\u001b[0m\n\u001b[0;32m    710\u001b[0m                                in product(candidate_params,\n\u001b[1;32m--> 711\u001b[1;33m                                           cv.split(X, y, groups)))\n\u001b[0m\u001b[0;32m    712\u001b[0m \u001b[1;33m\u001b[0m\u001b[0m\n\u001b[0;32m    713\u001b[0m                 \u001b[0mall_candidate_params\u001b[0m\u001b[1;33m.\u001b[0m\u001b[0mextend\u001b[0m\u001b[1;33m(\u001b[0m\u001b[0mcandidate_params\u001b[0m\u001b[1;33m)\u001b[0m\u001b[1;33m\u001b[0m\u001b[1;33m\u001b[0m\u001b[0m\n",
      "\u001b[1;32m~\\Anaconda3\\envs\\learn-env-ext\\lib\\site-packages\\sklearn\\externals\\joblib\\parallel.py\u001b[0m in \u001b[0;36m__call__\u001b[1;34m(self, iterable)\u001b[0m\n\u001b[0;32m    918\u001b[0m                 \u001b[0mself\u001b[0m\u001b[1;33m.\u001b[0m\u001b[0m_iterating\u001b[0m \u001b[1;33m=\u001b[0m \u001b[0mself\u001b[0m\u001b[1;33m.\u001b[0m\u001b[0m_original_iterator\u001b[0m \u001b[1;32mis\u001b[0m \u001b[1;32mnot\u001b[0m \u001b[1;32mNone\u001b[0m\u001b[1;33m\u001b[0m\u001b[1;33m\u001b[0m\u001b[0m\n\u001b[0;32m    919\u001b[0m \u001b[1;33m\u001b[0m\u001b[0m\n\u001b[1;32m--> 920\u001b[1;33m             \u001b[1;32mwhile\u001b[0m \u001b[0mself\u001b[0m\u001b[1;33m.\u001b[0m\u001b[0mdispatch_one_batch\u001b[0m\u001b[1;33m(\u001b[0m\u001b[0miterator\u001b[0m\u001b[1;33m)\u001b[0m\u001b[1;33m:\u001b[0m\u001b[1;33m\u001b[0m\u001b[1;33m\u001b[0m\u001b[0m\n\u001b[0m\u001b[0;32m    921\u001b[0m                 \u001b[1;32mpass\u001b[0m\u001b[1;33m\u001b[0m\u001b[1;33m\u001b[0m\u001b[0m\n\u001b[0;32m    922\u001b[0m \u001b[1;33m\u001b[0m\u001b[0m\n",
      "\u001b[1;32m~\\Anaconda3\\envs\\learn-env-ext\\lib\\site-packages\\sklearn\\externals\\joblib\\parallel.py\u001b[0m in \u001b[0;36mdispatch_one_batch\u001b[1;34m(self, iterator)\u001b[0m\n\u001b[0;32m    757\u001b[0m                 \u001b[1;32mreturn\u001b[0m \u001b[1;32mFalse\u001b[0m\u001b[1;33m\u001b[0m\u001b[1;33m\u001b[0m\u001b[0m\n\u001b[0;32m    758\u001b[0m             \u001b[1;32melse\u001b[0m\u001b[1;33m:\u001b[0m\u001b[1;33m\u001b[0m\u001b[1;33m\u001b[0m\u001b[0m\n\u001b[1;32m--> 759\u001b[1;33m                 \u001b[0mself\u001b[0m\u001b[1;33m.\u001b[0m\u001b[0m_dispatch\u001b[0m\u001b[1;33m(\u001b[0m\u001b[0mtasks\u001b[0m\u001b[1;33m)\u001b[0m\u001b[1;33m\u001b[0m\u001b[1;33m\u001b[0m\u001b[0m\n\u001b[0m\u001b[0;32m    760\u001b[0m                 \u001b[1;32mreturn\u001b[0m \u001b[1;32mTrue\u001b[0m\u001b[1;33m\u001b[0m\u001b[1;33m\u001b[0m\u001b[0m\n\u001b[0;32m    761\u001b[0m \u001b[1;33m\u001b[0m\u001b[0m\n",
      "\u001b[1;32m~\\Anaconda3\\envs\\learn-env-ext\\lib\\site-packages\\sklearn\\externals\\joblib\\parallel.py\u001b[0m in \u001b[0;36m_dispatch\u001b[1;34m(self, batch)\u001b[0m\n\u001b[0;32m    714\u001b[0m         \u001b[1;32mwith\u001b[0m \u001b[0mself\u001b[0m\u001b[1;33m.\u001b[0m\u001b[0m_lock\u001b[0m\u001b[1;33m:\u001b[0m\u001b[1;33m\u001b[0m\u001b[1;33m\u001b[0m\u001b[0m\n\u001b[0;32m    715\u001b[0m             \u001b[0mjob_idx\u001b[0m \u001b[1;33m=\u001b[0m \u001b[0mlen\u001b[0m\u001b[1;33m(\u001b[0m\u001b[0mself\u001b[0m\u001b[1;33m.\u001b[0m\u001b[0m_jobs\u001b[0m\u001b[1;33m)\u001b[0m\u001b[1;33m\u001b[0m\u001b[1;33m\u001b[0m\u001b[0m\n\u001b[1;32m--> 716\u001b[1;33m             \u001b[0mjob\u001b[0m \u001b[1;33m=\u001b[0m \u001b[0mself\u001b[0m\u001b[1;33m.\u001b[0m\u001b[0m_backend\u001b[0m\u001b[1;33m.\u001b[0m\u001b[0mapply_async\u001b[0m\u001b[1;33m(\u001b[0m\u001b[0mbatch\u001b[0m\u001b[1;33m,\u001b[0m \u001b[0mcallback\u001b[0m\u001b[1;33m=\u001b[0m\u001b[0mcb\u001b[0m\u001b[1;33m)\u001b[0m\u001b[1;33m\u001b[0m\u001b[1;33m\u001b[0m\u001b[0m\n\u001b[0m\u001b[0;32m    717\u001b[0m             \u001b[1;31m# A job can complete so quickly than its callback is\u001b[0m\u001b[1;33m\u001b[0m\u001b[1;33m\u001b[0m\u001b[1;33m\u001b[0m\u001b[0m\n\u001b[0;32m    718\u001b[0m             \u001b[1;31m# called before we get here, causing self._jobs to\u001b[0m\u001b[1;33m\u001b[0m\u001b[1;33m\u001b[0m\u001b[1;33m\u001b[0m\u001b[0m\n",
      "\u001b[1;32m~\\Anaconda3\\envs\\learn-env-ext\\lib\\site-packages\\sklearn\\externals\\joblib\\_parallel_backends.py\u001b[0m in \u001b[0;36mapply_async\u001b[1;34m(self, func, callback)\u001b[0m\n\u001b[0;32m    180\u001b[0m     \u001b[1;32mdef\u001b[0m \u001b[0mapply_async\u001b[0m\u001b[1;33m(\u001b[0m\u001b[0mself\u001b[0m\u001b[1;33m,\u001b[0m \u001b[0mfunc\u001b[0m\u001b[1;33m,\u001b[0m \u001b[0mcallback\u001b[0m\u001b[1;33m=\u001b[0m\u001b[1;32mNone\u001b[0m\u001b[1;33m)\u001b[0m\u001b[1;33m:\u001b[0m\u001b[1;33m\u001b[0m\u001b[1;33m\u001b[0m\u001b[0m\n\u001b[0;32m    181\u001b[0m         \u001b[1;34m\"\"\"Schedule a func to be run\"\"\"\u001b[0m\u001b[1;33m\u001b[0m\u001b[1;33m\u001b[0m\u001b[0m\n\u001b[1;32m--> 182\u001b[1;33m         \u001b[0mresult\u001b[0m \u001b[1;33m=\u001b[0m \u001b[0mImmediateResult\u001b[0m\u001b[1;33m(\u001b[0m\u001b[0mfunc\u001b[0m\u001b[1;33m)\u001b[0m\u001b[1;33m\u001b[0m\u001b[1;33m\u001b[0m\u001b[0m\n\u001b[0m\u001b[0;32m    183\u001b[0m         \u001b[1;32mif\u001b[0m \u001b[0mcallback\u001b[0m\u001b[1;33m:\u001b[0m\u001b[1;33m\u001b[0m\u001b[1;33m\u001b[0m\u001b[0m\n\u001b[0;32m    184\u001b[0m             \u001b[0mcallback\u001b[0m\u001b[1;33m(\u001b[0m\u001b[0mresult\u001b[0m\u001b[1;33m)\u001b[0m\u001b[1;33m\u001b[0m\u001b[1;33m\u001b[0m\u001b[0m\n",
      "\u001b[1;32m~\\Anaconda3\\envs\\learn-env-ext\\lib\\site-packages\\sklearn\\externals\\joblib\\_parallel_backends.py\u001b[0m in \u001b[0;36m__init__\u001b[1;34m(self, batch)\u001b[0m\n\u001b[0;32m    547\u001b[0m         \u001b[1;31m# Don't delay the application, to avoid keeping the input\u001b[0m\u001b[1;33m\u001b[0m\u001b[1;33m\u001b[0m\u001b[1;33m\u001b[0m\u001b[0m\n\u001b[0;32m    548\u001b[0m         \u001b[1;31m# arguments in memory\u001b[0m\u001b[1;33m\u001b[0m\u001b[1;33m\u001b[0m\u001b[1;33m\u001b[0m\u001b[0m\n\u001b[1;32m--> 549\u001b[1;33m         \u001b[0mself\u001b[0m\u001b[1;33m.\u001b[0m\u001b[0mresults\u001b[0m \u001b[1;33m=\u001b[0m \u001b[0mbatch\u001b[0m\u001b[1;33m(\u001b[0m\u001b[1;33m)\u001b[0m\u001b[1;33m\u001b[0m\u001b[1;33m\u001b[0m\u001b[0m\n\u001b[0m\u001b[0;32m    550\u001b[0m \u001b[1;33m\u001b[0m\u001b[0m\n\u001b[0;32m    551\u001b[0m     \u001b[1;32mdef\u001b[0m \u001b[0mget\u001b[0m\u001b[1;33m(\u001b[0m\u001b[0mself\u001b[0m\u001b[1;33m)\u001b[0m\u001b[1;33m:\u001b[0m\u001b[1;33m\u001b[0m\u001b[1;33m\u001b[0m\u001b[0m\n",
      "\u001b[1;32m~\\Anaconda3\\envs\\learn-env-ext\\lib\\site-packages\\sklearn\\externals\\joblib\\parallel.py\u001b[0m in \u001b[0;36m__call__\u001b[1;34m(self)\u001b[0m\n\u001b[0;32m    223\u001b[0m         \u001b[1;32mwith\u001b[0m \u001b[0mparallel_backend\u001b[0m\u001b[1;33m(\u001b[0m\u001b[0mself\u001b[0m\u001b[1;33m.\u001b[0m\u001b[0m_backend\u001b[0m\u001b[1;33m,\u001b[0m \u001b[0mn_jobs\u001b[0m\u001b[1;33m=\u001b[0m\u001b[0mself\u001b[0m\u001b[1;33m.\u001b[0m\u001b[0m_n_jobs\u001b[0m\u001b[1;33m)\u001b[0m\u001b[1;33m:\u001b[0m\u001b[1;33m\u001b[0m\u001b[1;33m\u001b[0m\u001b[0m\n\u001b[0;32m    224\u001b[0m             return [func(*args, **kwargs)\n\u001b[1;32m--> 225\u001b[1;33m                     for func, args, kwargs in self.items]\n\u001b[0m\u001b[0;32m    226\u001b[0m \u001b[1;33m\u001b[0m\u001b[0m\n\u001b[0;32m    227\u001b[0m     \u001b[1;32mdef\u001b[0m \u001b[0m__len__\u001b[0m\u001b[1;33m(\u001b[0m\u001b[0mself\u001b[0m\u001b[1;33m)\u001b[0m\u001b[1;33m:\u001b[0m\u001b[1;33m\u001b[0m\u001b[1;33m\u001b[0m\u001b[0m\n",
      "\u001b[1;32m~\\Anaconda3\\envs\\learn-env-ext\\lib\\site-packages\\sklearn\\externals\\joblib\\parallel.py\u001b[0m in \u001b[0;36m<listcomp>\u001b[1;34m(.0)\u001b[0m\n\u001b[0;32m    223\u001b[0m         \u001b[1;32mwith\u001b[0m \u001b[0mparallel_backend\u001b[0m\u001b[1;33m(\u001b[0m\u001b[0mself\u001b[0m\u001b[1;33m.\u001b[0m\u001b[0m_backend\u001b[0m\u001b[1;33m,\u001b[0m \u001b[0mn_jobs\u001b[0m\u001b[1;33m=\u001b[0m\u001b[0mself\u001b[0m\u001b[1;33m.\u001b[0m\u001b[0m_n_jobs\u001b[0m\u001b[1;33m)\u001b[0m\u001b[1;33m:\u001b[0m\u001b[1;33m\u001b[0m\u001b[1;33m\u001b[0m\u001b[0m\n\u001b[0;32m    224\u001b[0m             return [func(*args, **kwargs)\n\u001b[1;32m--> 225\u001b[1;33m                     for func, args, kwargs in self.items]\n\u001b[0m\u001b[0;32m    226\u001b[0m \u001b[1;33m\u001b[0m\u001b[0m\n\u001b[0;32m    227\u001b[0m     \u001b[1;32mdef\u001b[0m \u001b[0m__len__\u001b[0m\u001b[1;33m(\u001b[0m\u001b[0mself\u001b[0m\u001b[1;33m)\u001b[0m\u001b[1;33m:\u001b[0m\u001b[1;33m\u001b[0m\u001b[1;33m\u001b[0m\u001b[0m\n",
      "\u001b[1;32m~\\Anaconda3\\envs\\learn-env-ext\\lib\\site-packages\\sklearn\\model_selection\\_validation.py\u001b[0m in \u001b[0;36m_fit_and_score\u001b[1;34m(estimator, X, y, scorer, train, test, verbose, parameters, fit_params, return_train_score, return_parameters, return_n_test_samples, return_times, return_estimator, error_score)\u001b[0m\n\u001b[0;32m    526\u001b[0m             \u001b[0mestimator\u001b[0m\u001b[1;33m.\u001b[0m\u001b[0mfit\u001b[0m\u001b[1;33m(\u001b[0m\u001b[0mX_train\u001b[0m\u001b[1;33m,\u001b[0m \u001b[1;33m**\u001b[0m\u001b[0mfit_params\u001b[0m\u001b[1;33m)\u001b[0m\u001b[1;33m\u001b[0m\u001b[1;33m\u001b[0m\u001b[0m\n\u001b[0;32m    527\u001b[0m         \u001b[1;32melse\u001b[0m\u001b[1;33m:\u001b[0m\u001b[1;33m\u001b[0m\u001b[1;33m\u001b[0m\u001b[0m\n\u001b[1;32m--> 528\u001b[1;33m             \u001b[0mestimator\u001b[0m\u001b[1;33m.\u001b[0m\u001b[0mfit\u001b[0m\u001b[1;33m(\u001b[0m\u001b[0mX_train\u001b[0m\u001b[1;33m,\u001b[0m \u001b[0my_train\u001b[0m\u001b[1;33m,\u001b[0m \u001b[1;33m**\u001b[0m\u001b[0mfit_params\u001b[0m\u001b[1;33m)\u001b[0m\u001b[1;33m\u001b[0m\u001b[1;33m\u001b[0m\u001b[0m\n\u001b[0m\u001b[0;32m    529\u001b[0m \u001b[1;33m\u001b[0m\u001b[0m\n\u001b[0;32m    530\u001b[0m     \u001b[1;32mexcept\u001b[0m \u001b[0mException\u001b[0m \u001b[1;32mas\u001b[0m \u001b[0me\u001b[0m\u001b[1;33m:\u001b[0m\u001b[1;33m\u001b[0m\u001b[1;33m\u001b[0m\u001b[0m\n",
      "\u001b[1;32m~\\Anaconda3\\envs\\learn-env-ext\\lib\\site-packages\\keras\\wrappers\\scikit_learn.py\u001b[0m in \u001b[0;36mfit\u001b[1;34m(self, x, y, sample_weight, **kwargs)\u001b[0m\n\u001b[0;32m    208\u001b[0m         \u001b[1;32mif\u001b[0m \u001b[0msample_weight\u001b[0m \u001b[1;32mis\u001b[0m \u001b[1;32mnot\u001b[0m \u001b[1;32mNone\u001b[0m\u001b[1;33m:\u001b[0m\u001b[1;33m\u001b[0m\u001b[1;33m\u001b[0m\u001b[0m\n\u001b[0;32m    209\u001b[0m             \u001b[0mkwargs\u001b[0m\u001b[1;33m[\u001b[0m\u001b[1;34m'sample_weight'\u001b[0m\u001b[1;33m]\u001b[0m \u001b[1;33m=\u001b[0m \u001b[0msample_weight\u001b[0m\u001b[1;33m\u001b[0m\u001b[1;33m\u001b[0m\u001b[0m\n\u001b[1;32m--> 210\u001b[1;33m         \u001b[1;32mreturn\u001b[0m \u001b[0msuper\u001b[0m\u001b[1;33m(\u001b[0m\u001b[0mKerasClassifier\u001b[0m\u001b[1;33m,\u001b[0m \u001b[0mself\u001b[0m\u001b[1;33m)\u001b[0m\u001b[1;33m.\u001b[0m\u001b[0mfit\u001b[0m\u001b[1;33m(\u001b[0m\u001b[0mx\u001b[0m\u001b[1;33m,\u001b[0m \u001b[0my\u001b[0m\u001b[1;33m,\u001b[0m \u001b[1;33m**\u001b[0m\u001b[0mkwargs\u001b[0m\u001b[1;33m)\u001b[0m\u001b[1;33m\u001b[0m\u001b[1;33m\u001b[0m\u001b[0m\n\u001b[0m\u001b[0;32m    211\u001b[0m \u001b[1;33m\u001b[0m\u001b[0m\n\u001b[0;32m    212\u001b[0m     \u001b[1;32mdef\u001b[0m \u001b[0mpredict\u001b[0m\u001b[1;33m(\u001b[0m\u001b[0mself\u001b[0m\u001b[1;33m,\u001b[0m \u001b[0mx\u001b[0m\u001b[1;33m,\u001b[0m \u001b[1;33m**\u001b[0m\u001b[0mkwargs\u001b[0m\u001b[1;33m)\u001b[0m\u001b[1;33m:\u001b[0m\u001b[1;33m\u001b[0m\u001b[1;33m\u001b[0m\u001b[0m\n",
      "\u001b[1;32m~\\Anaconda3\\envs\\learn-env-ext\\lib\\site-packages\\keras\\wrappers\\scikit_learn.py\u001b[0m in \u001b[0;36mfit\u001b[1;34m(self, x, y, **kwargs)\u001b[0m\n\u001b[0;32m    150\u001b[0m         \u001b[0mfit_args\u001b[0m\u001b[1;33m.\u001b[0m\u001b[0mupdate\u001b[0m\u001b[1;33m(\u001b[0m\u001b[0mkwargs\u001b[0m\u001b[1;33m)\u001b[0m\u001b[1;33m\u001b[0m\u001b[1;33m\u001b[0m\u001b[0m\n\u001b[0;32m    151\u001b[0m \u001b[1;33m\u001b[0m\u001b[0m\n\u001b[1;32m--> 152\u001b[1;33m         \u001b[0mhistory\u001b[0m \u001b[1;33m=\u001b[0m \u001b[0mself\u001b[0m\u001b[1;33m.\u001b[0m\u001b[0mmodel\u001b[0m\u001b[1;33m.\u001b[0m\u001b[0mfit\u001b[0m\u001b[1;33m(\u001b[0m\u001b[0mx\u001b[0m\u001b[1;33m,\u001b[0m \u001b[0my\u001b[0m\u001b[1;33m,\u001b[0m \u001b[1;33m**\u001b[0m\u001b[0mfit_args\u001b[0m\u001b[1;33m)\u001b[0m\u001b[1;33m\u001b[0m\u001b[1;33m\u001b[0m\u001b[0m\n\u001b[0m\u001b[0;32m    153\u001b[0m \u001b[1;33m\u001b[0m\u001b[0m\n\u001b[0;32m    154\u001b[0m         \u001b[1;32mreturn\u001b[0m \u001b[0mhistory\u001b[0m\u001b[1;33m\u001b[0m\u001b[1;33m\u001b[0m\u001b[0m\n",
      "\u001b[1;32m~\\Anaconda3\\envs\\learn-env-ext\\lib\\site-packages\\keras\\engine\\training.py\u001b[0m in \u001b[0;36mfit\u001b[1;34m(self, x, y, batch_size, epochs, verbose, callbacks, validation_split, validation_data, shuffle, class_weight, sample_weight, initial_epoch, steps_per_epoch, validation_steps, **kwargs)\u001b[0m\n\u001b[0;32m   1037\u001b[0m                                         \u001b[0minitial_epoch\u001b[0m\u001b[1;33m=\u001b[0m\u001b[0minitial_epoch\u001b[0m\u001b[1;33m,\u001b[0m\u001b[1;33m\u001b[0m\u001b[1;33m\u001b[0m\u001b[0m\n\u001b[0;32m   1038\u001b[0m                                         \u001b[0msteps_per_epoch\u001b[0m\u001b[1;33m=\u001b[0m\u001b[0msteps_per_epoch\u001b[0m\u001b[1;33m,\u001b[0m\u001b[1;33m\u001b[0m\u001b[1;33m\u001b[0m\u001b[0m\n\u001b[1;32m-> 1039\u001b[1;33m                                         validation_steps=validation_steps)\n\u001b[0m\u001b[0;32m   1040\u001b[0m \u001b[1;33m\u001b[0m\u001b[0m\n\u001b[0;32m   1041\u001b[0m     def evaluate(self, x=None, y=None,\n",
      "\u001b[1;32m~\\Anaconda3\\envs\\learn-env-ext\\lib\\site-packages\\keras\\engine\\training_arrays.py\u001b[0m in \u001b[0;36mfit_loop\u001b[1;34m(model, f, ins, out_labels, batch_size, epochs, verbose, callbacks, val_f, val_ins, shuffle, callback_metrics, initial_epoch, steps_per_epoch, validation_steps)\u001b[0m\n\u001b[0;32m    197\u001b[0m                     \u001b[0mins_batch\u001b[0m\u001b[1;33m[\u001b[0m\u001b[0mi\u001b[0m\u001b[1;33m]\u001b[0m \u001b[1;33m=\u001b[0m \u001b[0mins_batch\u001b[0m\u001b[1;33m[\u001b[0m\u001b[0mi\u001b[0m\u001b[1;33m]\u001b[0m\u001b[1;33m.\u001b[0m\u001b[0mtoarray\u001b[0m\u001b[1;33m(\u001b[0m\u001b[1;33m)\u001b[0m\u001b[1;33m\u001b[0m\u001b[1;33m\u001b[0m\u001b[0m\n\u001b[0;32m    198\u001b[0m \u001b[1;33m\u001b[0m\u001b[0m\n\u001b[1;32m--> 199\u001b[1;33m                 \u001b[0mouts\u001b[0m \u001b[1;33m=\u001b[0m \u001b[0mf\u001b[0m\u001b[1;33m(\u001b[0m\u001b[0mins_batch\u001b[0m\u001b[1;33m)\u001b[0m\u001b[1;33m\u001b[0m\u001b[1;33m\u001b[0m\u001b[0m\n\u001b[0m\u001b[0;32m    200\u001b[0m                 \u001b[0mouts\u001b[0m \u001b[1;33m=\u001b[0m \u001b[0mto_list\u001b[0m\u001b[1;33m(\u001b[0m\u001b[0mouts\u001b[0m\u001b[1;33m)\u001b[0m\u001b[1;33m\u001b[0m\u001b[1;33m\u001b[0m\u001b[0m\n\u001b[0;32m    201\u001b[0m                 \u001b[1;32mfor\u001b[0m \u001b[0ml\u001b[0m\u001b[1;33m,\u001b[0m \u001b[0mo\u001b[0m \u001b[1;32min\u001b[0m \u001b[0mzip\u001b[0m\u001b[1;33m(\u001b[0m\u001b[0mout_labels\u001b[0m\u001b[1;33m,\u001b[0m \u001b[0mouts\u001b[0m\u001b[1;33m)\u001b[0m\u001b[1;33m:\u001b[0m\u001b[1;33m\u001b[0m\u001b[1;33m\u001b[0m\u001b[0m\n",
      "\u001b[1;32m~\\Anaconda3\\envs\\learn-env-ext\\lib\\site-packages\\keras\\backend\\tensorflow_backend.py\u001b[0m in \u001b[0;36m__call__\u001b[1;34m(self, inputs)\u001b[0m\n\u001b[0;32m   2713\u001b[0m                 \u001b[1;32mreturn\u001b[0m \u001b[0mself\u001b[0m\u001b[1;33m.\u001b[0m\u001b[0m_legacy_call\u001b[0m\u001b[1;33m(\u001b[0m\u001b[0minputs\u001b[0m\u001b[1;33m)\u001b[0m\u001b[1;33m\u001b[0m\u001b[1;33m\u001b[0m\u001b[0m\n\u001b[0;32m   2714\u001b[0m \u001b[1;33m\u001b[0m\u001b[0m\n\u001b[1;32m-> 2715\u001b[1;33m             \u001b[1;32mreturn\u001b[0m \u001b[0mself\u001b[0m\u001b[1;33m.\u001b[0m\u001b[0m_call\u001b[0m\u001b[1;33m(\u001b[0m\u001b[0minputs\u001b[0m\u001b[1;33m)\u001b[0m\u001b[1;33m\u001b[0m\u001b[1;33m\u001b[0m\u001b[0m\n\u001b[0m\u001b[0;32m   2716\u001b[0m         \u001b[1;32melse\u001b[0m\u001b[1;33m:\u001b[0m\u001b[1;33m\u001b[0m\u001b[1;33m\u001b[0m\u001b[0m\n\u001b[0;32m   2717\u001b[0m             \u001b[1;32mif\u001b[0m \u001b[0mpy_any\u001b[0m\u001b[1;33m(\u001b[0m\u001b[0mis_tensor\u001b[0m\u001b[1;33m(\u001b[0m\u001b[0mx\u001b[0m\u001b[1;33m)\u001b[0m \u001b[1;32mfor\u001b[0m \u001b[0mx\u001b[0m \u001b[1;32min\u001b[0m \u001b[0minputs\u001b[0m\u001b[1;33m)\u001b[0m\u001b[1;33m:\u001b[0m\u001b[1;33m\u001b[0m\u001b[1;33m\u001b[0m\u001b[0m\n",
      "\u001b[1;32m~\\Anaconda3\\envs\\learn-env-ext\\lib\\site-packages\\keras\\backend\\tensorflow_backend.py\u001b[0m in \u001b[0;36m_call\u001b[1;34m(self, inputs)\u001b[0m\n\u001b[0;32m   2673\u001b[0m             \u001b[0mfetched\u001b[0m \u001b[1;33m=\u001b[0m \u001b[0mself\u001b[0m\u001b[1;33m.\u001b[0m\u001b[0m_callable_fn\u001b[0m\u001b[1;33m(\u001b[0m\u001b[1;33m*\u001b[0m\u001b[0marray_vals\u001b[0m\u001b[1;33m,\u001b[0m \u001b[0mrun_metadata\u001b[0m\u001b[1;33m=\u001b[0m\u001b[0mself\u001b[0m\u001b[1;33m.\u001b[0m\u001b[0mrun_metadata\u001b[0m\u001b[1;33m)\u001b[0m\u001b[1;33m\u001b[0m\u001b[1;33m\u001b[0m\u001b[0m\n\u001b[0;32m   2674\u001b[0m         \u001b[1;32melse\u001b[0m\u001b[1;33m:\u001b[0m\u001b[1;33m\u001b[0m\u001b[1;33m\u001b[0m\u001b[0m\n\u001b[1;32m-> 2675\u001b[1;33m             \u001b[0mfetched\u001b[0m \u001b[1;33m=\u001b[0m \u001b[0mself\u001b[0m\u001b[1;33m.\u001b[0m\u001b[0m_callable_fn\u001b[0m\u001b[1;33m(\u001b[0m\u001b[1;33m*\u001b[0m\u001b[0marray_vals\u001b[0m\u001b[1;33m)\u001b[0m\u001b[1;33m\u001b[0m\u001b[1;33m\u001b[0m\u001b[0m\n\u001b[0m\u001b[0;32m   2676\u001b[0m         \u001b[1;32mreturn\u001b[0m \u001b[0mfetched\u001b[0m\u001b[1;33m[\u001b[0m\u001b[1;33m:\u001b[0m\u001b[0mlen\u001b[0m\u001b[1;33m(\u001b[0m\u001b[0mself\u001b[0m\u001b[1;33m.\u001b[0m\u001b[0moutputs\u001b[0m\u001b[1;33m)\u001b[0m\u001b[1;33m]\u001b[0m\u001b[1;33m\u001b[0m\u001b[1;33m\u001b[0m\u001b[0m\n\u001b[0;32m   2677\u001b[0m \u001b[1;33m\u001b[0m\u001b[0m\n",
      "\u001b[1;32m~\\Anaconda3\\envs\\learn-env-ext\\lib\\site-packages\\tensorflow\\python\\client\\session.py\u001b[0m in \u001b[0;36m__call__\u001b[1;34m(self, *args, **kwargs)\u001b[0m\n\u001b[0;32m   1437\u001b[0m           ret = tf_session.TF_SessionRunCallable(\n\u001b[0;32m   1438\u001b[0m               \u001b[0mself\u001b[0m\u001b[1;33m.\u001b[0m\u001b[0m_session\u001b[0m\u001b[1;33m.\u001b[0m\u001b[0m_session\u001b[0m\u001b[1;33m,\u001b[0m \u001b[0mself\u001b[0m\u001b[1;33m.\u001b[0m\u001b[0m_handle\u001b[0m\u001b[1;33m,\u001b[0m \u001b[0margs\u001b[0m\u001b[1;33m,\u001b[0m \u001b[0mstatus\u001b[0m\u001b[1;33m,\u001b[0m\u001b[1;33m\u001b[0m\u001b[1;33m\u001b[0m\u001b[0m\n\u001b[1;32m-> 1439\u001b[1;33m               run_metadata_ptr)\n\u001b[0m\u001b[0;32m   1440\u001b[0m         \u001b[1;32mif\u001b[0m \u001b[0mrun_metadata\u001b[0m\u001b[1;33m:\u001b[0m\u001b[1;33m\u001b[0m\u001b[1;33m\u001b[0m\u001b[0m\n\u001b[0;32m   1441\u001b[0m           \u001b[0mproto_data\u001b[0m \u001b[1;33m=\u001b[0m \u001b[0mtf_session\u001b[0m\u001b[1;33m.\u001b[0m\u001b[0mTF_GetBuffer\u001b[0m\u001b[1;33m(\u001b[0m\u001b[0mrun_metadata_ptr\u001b[0m\u001b[1;33m)\u001b[0m\u001b[1;33m\u001b[0m\u001b[1;33m\u001b[0m\u001b[0m\n",
      "\u001b[1;31mKeyboardInterrupt\u001b[0m: "
     ]
    }
   ],
   "source": [
    "## Run GridSearch\n",
    "tune_clock = bs.Clock()\n",
    "\n",
    "grid = GridSearchCV(estimator=neural_network,param_grid=params_to_search, scoring=make_scorer(ji.my_custom_scorer))\n",
    "\n",
    "tune_clock.tic()\n",
    "grid_result = grid.fit(X_train, y_train)\n",
    "tune_clock.toc()\n",
    "\n",
    "## Print Best Params\n",
    "best_params = grid_result.best_params_\n",
    "print(best_params)\n",
    "\n",
    "## Send Email with completion time and best parameters found. \n",
    "time_completed = pd.datetime.now()\n",
    "fmt = '%m/%d%Y-%T'\n",
    "msg = f\"GridSearch Completed at {time_completed.strftime(fmt)}\\n GridSearchResults:\\n{best_params}\"\n",
    "email_notification(msg=msg)"
   ]
  },
  {
   "cell_type": "markdown",
   "metadata": {},
   "source": [
    "## Now Run Best Params on Their Own"
   ]
  },
  {
   "cell_type": "code",
   "execution_count": null,
   "metadata": {},
   "outputs": [],
   "source": [
    "model = create_model(embedding_layer_gl,**grid_result.best_params_)\n",
    "model.summary()"
   ]
  },
  {
   "cell_type": "code",
   "execution_count": null,
   "metadata": {},
   "outputs": [],
   "source": [
    "## set params\n",
    "num_epochs = 10\n",
    "# validation_split = 0.2\n",
    "\n",
    "\n",
    "clock = bs.Clock()\n",
    "clock.tic()\n",
    "dashes = '---'*20\n",
    "print(f\"{dashes}\\n\\tFITTING MODEL:\\n{dashes}\")\n",
    "\n",
    "history = model.fit(X_train, y_train, \n",
    "                      epochs=num_epochs,\n",
    "                      verbose=True, \n",
    "                      validation_data=(X_val,y_val),#validation_split=validation_split,\n",
    "                      batch_size=100)#,\n",
    "#                       callbacks=callbacks)\n",
    "\n",
    "clock.toc()\n",
    "\n",
    "df_report,fig=ji.evaluate_classification(model,history,\n",
    "                                                   X_train, X_test,\n",
    "                                                   y_train, y_test, \n",
    "                                                   report_as_df=False,\n",
    "                                                   binary_classes=False,\n",
    "                                                   conf_matrix_classes=['Decrease','No Change','Increase'])"
   ]
  },
  {
   "cell_type": "markdown",
   "metadata": {},
   "source": [
    "___\n"
   ]
  },
  {
   "cell_type": "markdown",
   "metadata": {},
   "source": []
  },
  {
   "cell_type": "markdown",
   "metadata": {
    "heading_collapsed": true
   },
   "source": [
    "## Older Parameters"
   ]
  },
  {
   "cell_type": "markdown",
   "metadata": {
    "hidden": true
   },
   "source": [
    "```python\n",
    "# Create HyperParaemeter Space\n",
    "params_to_search ={'filter_size':[3,4,5,6],\n",
    "                   'activation':['relu','tanh','linear'],\n",
    "                   'n_filters':[100,200],#,300,400],\n",
    "                  'dropout':[0.2],\n",
    "                  'optimizer':['adam','rmsprop','adadelta'],\n",
    "                'epochs':[10]}\n",
    "\n",
    "\n",
    "create_model(embedding_layer=embedding_layer_gl,trainable=False,\n",
    "              n_filters=100, filter_size=4,\n",
    "              activation='tanh', optimizer='adadelta',\n",
    "              dropout=0.2,l2_lr=0.01,\n",
    "              batch_size=100,\n",
    "              epochs=10,verbose = 0,show_summary=False)\n",
    "  ...\n",
    "\n",
    "best results:\n",
    "{'activation': 'tanh',\n",
    " 'dropout': 0.2,\n",
    " 'epochs': 10,\n",
    " 'filter_size': 4,\n",
    " 'n_filters': 100,\n",
    " 'optimizer': 'adadelta'}\n",
    "```"
   ]
  },
  {
   "cell_type": "markdown",
   "metadata": {
    "heading_collapsed": true
   },
   "source": [
    "## CNN + Dense Layers"
   ]
  },
  {
   "cell_type": "code",
   "execution_count": null,
   "metadata": {
    "hidden": true
   },
   "outputs": [],
   "source": []
  },
  {
   "cell_type": "code",
   "execution_count": null,
   "metadata": {
    "hidden": true
   },
   "outputs": [],
   "source": []
  },
  {
   "cell_type": "markdown",
   "metadata": {
    "heading_collapsed": true
   },
   "source": [
    "## CNN Deep Model"
   ]
  },
  {
   "cell_type": "code",
   "execution_count": null,
   "metadata": {
    "hidden": true
   },
   "outputs": [],
   "source": [
    "\n",
    "def create_deep_model(embedding_layer=embedding_layer_gl,trainable=False,\n",
    "                       n_conv_layers=3,n_filters=128, filter_size=4,\n",
    "                      activation='tanh', optimizer='adadelta',\n",
    "                      dropout=0.2,l2_lr=0.005,\n",
    "                      batch_size=100,\n",
    "                      epochs=10,verbose = 1):\n",
    "    \n",
    "    vars = locals()\n",
    "    dashes = '---'*20\n",
    "    print('\\n\\n')\n",
    "    print(dashes)\n",
    "    now = pd.datetime.now()\n",
    "    print(now.strftime('%m/%d/%Y-%T'))\n",
    "    print(vars)    \n",
    "    \n",
    "    embedding_layer.trainable=trainable\n",
    "    print(f'Embedding layer trainable={embedding_layer.trainable}')\n",
    "    from keras.layers import Input, Conv1D,GlobalMaxPooling1D, MaxPooling1D, Dense, Dropout\n",
    "    from keras.models import Model\n",
    "    from keras.regularizers import l2\n",
    "\n",
    "    print('Training model.')\n",
    "    MAX_SEQUENCE_LENGTH = X_train.shape[1]\n",
    "\n",
    "    # train a 1D convnet with global maxpooling\n",
    "    sequence_input = Input(shape=(MAX_SEQUENCE_LENGTH,), dtype='int32')\n",
    "    embedded_sequences = embedding_layer(sequence_input)\n",
    "    ## Specify layer parameters\n",
    "\n",
    "\n",
    "    ##\n",
    "    x = Conv1D(n_filters, filter_size, activation=activation, #data_format='channels_first',\n",
    "               kernel_regularizer=l2(l2_lr), bias_regularizer=l2(l2_lr))(embedded_sequences)\n",
    "    \n",
    "    x = Dropout(dropout)(x)\n",
    "    x = MaxPooling1D(filter_size)(x)\n",
    "    \n",
    "    \n",
    "    \n",
    "    ## Loop to create n_conv_layers\n",
    "    \n",
    "    for n in range(n_conv_layers):\n",
    "        x = Conv1D(n_filters, filter_size, activation=activation,data_format='channels_first',\n",
    "                   kernel_regularizer=l2(l2_lr), bias_regularizer=l2(l2_lr))(x) \n",
    "        x = Dropout(dropout)(x)\n",
    "        \n",
    "        if n==n_conv_layers-1:\n",
    "            x = GlobalMaxPooling1D()(x)\n",
    "        else:\n",
    "            x = MaxPooling1D(filter_size)(x)\n",
    "    \n",
    "# #     ##\n",
    "#     x = Conv1D(n_filters, filter_size, activation=activation,data_format='channels_first',\n",
    "#               kernel_regularizer=l2(l2_lr), bias_regularizer=l2(l2_lr))(x) \n",
    "#     x = Dropout(dropout)(x)\n",
    "#     x = GlobalMaxPooling1D()(x)\n",
    "    \n",
    "    ##\n",
    "    x = Dense(n_filters, activation=activation )(x) #128'relu'\n",
    "    preds = Dense(3, activation='softmax')(x)\n",
    "\n",
    "    model = Model(sequence_input, preds)\n",
    "    model.compile(loss='categorical_crossentropy',\n",
    "                  optimizer=optimizer, #'rmsprop',#adam\n",
    "                  metrics=['acc'])\n",
    "    \n",
    "#     if show_summary:\n",
    "#     print()\n",
    "    display(model.summary())\n",
    "    return model\n",
    "\n"
   ]
  },
  {
   "cell_type": "code",
   "execution_count": null,
   "metadata": {
    "hidden": true
   },
   "outputs": [],
   "source": [
    "from sklearn.model_selection import GridSearchCV\n",
    "tune_clock = bs.Clock()\n",
    "from keras import models, layers\n",
    "from keras.wrappers.scikit_learn import KerasClassifier, KerasRegressor\n",
    "from sklearn.model_selection import GridSearchCV\n",
    "\n",
    "neural_network_deep = KerasClassifier(build_fn=create_deep_model,verbose=1)\n",
    "\n",
    "params_deep_model={'n_conv_layers':[3,5],\n",
    "                  'n_filters': [100,200],\n",
    "                 'l2_lr':[0.005,0.01],\n",
    "                  'epochs':[10]}\n",
    "# params_deep_model={'activation': ['tanh'], \n",
    "#                    'n_conv_layers':[3,5],\n",
    "#                   'dropout': [0.2],\n",
    "#                   'epochs': [10],#,20]\n",
    "#                   'filter_size': [4],\n",
    "#                   'batch_size':[100],\n",
    "#                   'n_filters': [100,200],\n",
    "#                   'optimizer': ['adadelta'],\n",
    "#                  'l2_lr':[0.005,0.01]}\n",
    "grid = GridSearchCV(estimator=neural_network_deep,param_grid=params_deep_model)#,\n",
    "#                    n_jobs=3)\n",
    "print(params_deep_model)\n",
    "\n",
    "tune_clock.tic()\n",
    "grid_result = grid.fit(X_train, y_train)\n",
    "tune_clock.toc()"
   ]
  }
 ],
 "metadata": {
  "kernelspec": {
   "display_name": "learn-env-ext",
   "language": "python",
   "name": "learn-env-ext"
  },
  "language_info": {
   "codemirror_mode": {
    "name": "ipython",
    "version": 3
   },
   "file_extension": ".py",
   "mimetype": "text/x-python",
   "name": "python",
   "nbconvert_exporter": "python",
   "pygments_lexer": "ipython3",
   "version": "3.6.8"
  },
  "toc": {
   "base_numbering": 1,
   "nav_menu": {},
   "number_sections": false,
   "sideBar": true,
   "skip_h1_title": false,
   "title_cell": "Table of Contents",
   "title_sidebar": "Contents",
   "toc_cell": false,
   "toc_position": {},
   "toc_section_display": true,
   "toc_window_display": true
  },
  "widgets": {
   "application/vnd.jupyter.widget-state+json": {
    "state": {
     "22a8d013f58d43e1b9288312a11338da": {
      "model_module": "@jupyter-widgets/base",
      "model_module_version": "1.2.0",
      "model_name": "LayoutModel",
      "state": {}
     },
     "29dcd2b7870e4167806a5f841093b4a6": {
      "model_module": "@jupyter-widgets/output",
      "model_module_version": "1.0.0",
      "model_name": "OutputModel",
      "state": {
       "layout": "IPY_MODEL_22a8d013f58d43e1b9288312a11338da",
       "outputs": [
        {
         "name": "stdout",
         "output_type": "stream",
         "text": "{'filename': 'data/filename_dictionary.json', 'history': ''}\n"
        },
        {
         "data": {
          "text/plain": "None"
         },
         "metadata": {},
         "output_type": "display_data"
        }
       ]
      }
     },
     "38a110a9237e43e985249ff647501a63": {
      "model_module": "@jupyter-widgets/controls",
      "model_module_version": "1.5.0",
      "model_name": "DropdownModel",
      "state": {
       "_options_labels": [
        "file_directory",
        "model_0A",
        "model_0B",
        "model_xgb",
        "model_1",
        "model_2",
        "model_3",
        "twitter_df",
        "stock_df",
        "nlp_figures",
        "nlp_model_for_predictions",
        "word2vec",
        "df_combined"
       ],
       "description": "dict_to_display",
       "index": 0,
       "layout": "IPY_MODEL_ce5732c274b04f6e9e3287620f46c882",
       "style": "IPY_MODEL_bf8ce5130f944f03ab12b77d34cd398a"
      }
     },
     "99cfad035c5a44eab00b8a7f384624cc": {
      "model_module": "@jupyter-widgets/controls",
      "model_module_version": "1.5.0",
      "model_name": "VBoxModel",
      "state": {
       "_dom_classes": [
        "widget-interact"
       ],
       "children": [
        "IPY_MODEL_38a110a9237e43e985249ff647501a63",
        "IPY_MODEL_29dcd2b7870e4167806a5f841093b4a6"
       ],
       "layout": "IPY_MODEL_e004cfdb71c7463db9454ff885cc7cb8"
      }
     },
     "bf8ce5130f944f03ab12b77d34cd398a": {
      "model_module": "@jupyter-widgets/controls",
      "model_module_version": "1.5.0",
      "model_name": "DescriptionStyleModel",
      "state": {
       "description_width": ""
      }
     },
     "ce5732c274b04f6e9e3287620f46c882": {
      "model_module": "@jupyter-widgets/base",
      "model_module_version": "1.2.0",
      "model_name": "LayoutModel",
      "state": {}
     },
     "e004cfdb71c7463db9454ff885cc7cb8": {
      "model_module": "@jupyter-widgets/base",
      "model_module_version": "1.2.0",
      "model_name": "LayoutModel",
      "state": {}
     }
    },
    "version_major": 2,
    "version_minor": 0
   }
  }
 },
 "nbformat": 4,
 "nbformat_minor": 2
}
